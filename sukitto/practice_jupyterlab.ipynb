{
 "cells": [
  {
   "cell_type": "markdown",
   "id": "d6badaa1-bede-4b26-9401-18d481cefc0f",
   "metadata": {},
   "source": [
    "#### basic_mind\n",
    "    superviskeyed learning（教師あり）: regression（回帰）classification（分類）\n",
    "        keyword: 特徴量、正解データ\n",
    "    unsupervised learning（教師なし）: clustering（クラスタリング）dimensionality reduction（次元削減）\n",
    "    \n",
    "#### 各関数：\n",
    "df[\"].value_counts() 1列分のデータ別個数の集計\n",
    "df[\"].unique() 1列分のデータを重複を除いて抽出\n",
    "df.dropna(how=\"all\" or \"any\", axis=0:row or 1:col)　None削除\n",
    "df.drop(index or colname, axis= 0:row or 1:col) 行またはカラム名指定削除\n",
    "df.loc[index, col] 特定の行列の抽出 :スライサOK\n",
    "df[\"].fillna(\"replaceValue\")欠損値補完\n",
    "df.loc[:,from:to] インデックス、カラム名指定取得\n",
    "df_none = df[df.isnull().any(axis=1)] None行の取得\n",
    "df_if = df[(df[a]>0) & (df[y]==\"val\")] 行の条件取得\n",
    "\n",
    "df.sharp　データフレームの全体概要出力\n",
    "df.columns カラム名取得\n",
    "\n",
    "\n",
    "pd.concat([df_A, df_B], axis=0:addRow or 1:addCol, how=?)\n",
    "pd.merge\n",
    "\n",
    "#### 描画\n",
    "df.plot(kind=\"scatter\", x=val, y=val) 散布図\n",
    "\n",
    "\n",
    "#### 機械学習\n",
    "pd.get_dummies(dataframe, drop_first=True) ダミーデータへ変換\n",
    "\n",
    "with open(\"fileName\",wb) as f; pickle.dump(\"saveModel\",f) モデル保存\n",
    "with open(\"fileName\",rb) as f; pickle.load(\"saveModel\",f)　モデル読み込み\n",
    "\n",
    "from sklearn.model_selection import train_test_split データの分割 複数可\n",
    "x1,x2, y1,y2 = train_test_split(df_x, df_y, test_size=0.2, random_state=0)\n",
    "\n",
    "from sklearn import tree 決定木 分類 class_weightは任意\n",
    "model = tree.DecisionTreeClassifier(max_depth=depth, random_state=0, class_weight=\"balanced\")\n",
    "model.fit(x,y)\n",
    "score = model.score(x=x_tr, y=y_tr)\n",
    "\n",
    "from sklearn.linear_model import LinearRegression　回帰\n",
    "model = LinearRegression()\n",
    "model.fit(x,y) x:train y=corect\n",
    "pred_value = model.predict(x)\n"
   ]
  },
  {
   "cell_type": "markdown",
   "id": "d7fb264e-c576-4164-8a21-e12a6ec4f986",
   "metadata": {},
   "source": [
    "# 機械学習ラーニング　CHAPTER9　bank.csv"
   ]
  },
  {
   "cell_type": "markdown",
   "id": "e0d83ce7-d90d-40cf-b067-45260bcf817d",
   "metadata": {},
   "source": [
    "## 文字列データのダミー化"
   ]
  },
  {
   "cell_type": "code",
   "execution_count": 5,
   "id": "425e2c78-867f-464a-b8c0-95a3b5d93079",
   "metadata": {},
   "outputs": [],
   "source": [
    "import pandas as pd\n",
    "from sklearn.model_selection import train_test_split\n",
    "df = pd.read_csv(\"sukkiri-ml2-codes/datafiles/bank.csv\")\n",
    "\n",
    "colname = [\"job\",\"marital\",\"education\",\"default\",\"housing\",\"loan\",\"contact\"]\n",
    "df_str = df.loc[:,colname]\n",
    "df_dummy = pd.get_dummies(df_str, drop_first=True)\n",
    "# Drop the original categorical columns from df\n",
    "df_without_cat = df.drop(colname, axis=1)\n",
    "# Concatenate the numerical columns with dummy variables horizontally\n",
    "df2 = pd.concat([df_without_cat, df_dummy], axis=1)"
   ]
  },
  {
   "cell_type": "markdown",
   "id": "2087d9ab-ccd2-4f17-b913-86fcd0e31583",
   "metadata": {},
   "source": [
    "## 訓練データとテストデータの分割、不要な項目を削除"
   ]
  },
  {
   "cell_type": "code",
   "execution_count": 7,
   "id": "32baf0b1-fc06-4d47-a6d8-e3eaf6ba9924",
   "metadata": {},
   "outputs": [],
   "source": [
    "drop_col = df2.drop([\"id\",\"age\",\"amount\",\"day\",\"month\"],axis=1)\n",
    "train_val, test = train_test_split(drop_col,test_size=0.2,random_state=0)\n"
   ]
  },
  {
   "cell_type": "markdown",
   "id": "4a9b8a7f-0a64-4e9c-9f7b-5f4a67b10516",
   "metadata": {},
   "source": [
    "## 機械学習による予測値の設定"
   ]
  },
  {
   "cell_type": "code",
   "execution_count": null,
   "id": "c18fd98b-2218-4128-9cc9-650aa6774c41",
   "metadata": {},
   "outputs": [],
   "source": [
    "# 機械学習による予測値\n",
    "from sklearn.linear_model import LinearRegression\n",
    "pred_tr_val = train_val.dropna()\n",
    "# need to predict\n",
    "pred_x = train_val[train_val.isnull().any(axis=1)]\n",
    "x = pred_tr_val.drop([\"duration\"],axis=1)\n",
    "y = pred_tr_val[\"duration\"]\n",
    "model = LinearRegression()\n",
    "model.fit(x,y)\n",
    "pred_x = pred_x.dropna(axis=1)\n",
    "pred_y = model.predict(pred_x)\n",
    "train_val.loc[train_val[\"duration\"].isnull(), \"duration\"] = pred_y\n",
    "\n"
   ]
  },
  {
   "cell_type": "markdown",
   "id": "d1fba77c-5bbc-4e3a-9121-f761bd7939cd",
   "metadata": {},
   "source": [
    "## 性能テスト"
   ]
  },
  {
   "cell_type": "code",
   "execution_count": null,
   "id": "e5435536-6a9c-40a0-93f2-20e1fa8117ad",
   "metadata": {},
   "outputs": [],
   "source": [
    "from sklearn import tree\n",
    "\n",
    "def leran(x,t,depth=1): # 訓練データと検証データのスコアを返す処理\n",
    "    x_tr, x_test, y_tr, y_test = train_test_split(x,t,test_size=2, random_state=0)\n",
    "    model = tree.DecisionTreeClassifier(max_depth=depth, random_state=0, class_weight=\"balanced\")\n",
    "    model.fit(x,y)\n",
    "    score = model.score(x=x_tr, y=y_tr)\n",
    "    score2 = model.score(x=x_test, y=y_test)\n",
    "    return round(score,3), round(score2,3), model\n",
    "\n",
    "\n",
    "for i in range(1,15):\n",
    "    tr_score, test_score, model = learn(x,x,i)\n",
    "    print(f\"深さ{i}：訓練スコア{tr_score} テストスコア{test_score}\")\n",
    "\n",
    "\n",
    "\n"
   ]
  },
  {
   "cell_type": "markdown",
   "id": "4d266c70-cd9b-40a6-a7cd-d68d710311df",
   "metadata": {},
   "source": [
    "## マハラノビスによる外れ値の除去"
   ]
  },
  {
   "cell_type": "code",
   "execution_count": null,
   "id": "8da60b7f-99a7-4bfd-8c94-7586d72cd562",
   "metadata": {},
   "outputs": [],
   "source": [
    "# from sklearn.covariance import MinCovDet\n",
    "# mcd = MinCovDet(random_state=0, support_fraction=0.7)\n",
    "# mcd.fit(train_val)\n",
    "# distance = mcd.mahalanobis(train_val)\n",
    "# s_distance = pd.Series(distance) \n",
    "# tmp=s_distance.describe()\n",
    "\n",
    "# iqr = tmp[\"75%\"] - tmp[\"25%\"] #IRQ\n",
    "# maxval = (iqr*1.5) + tmp[\"75%\"]\n",
    "# minval = tmp[\"25%\"] - (iqr*1.5)\n",
    "\n",
    "# clear_data = s_distance[(s_distance > maxval) &(minval > s_distance)]\n",
    "# clear_data # 該当データなし\n"
   ]
  },
  {
   "cell_type": "code",
   "execution_count": null,
   "id": "999191d3-ce38-431b-9c9e-3adbf599660f",
   "metadata": {},
   "outputs": [],
   "source": [
    "\n",
    "# 1. 相関係数を計算\n",
    "# yと他の特徴量との相関係数を計算し、絶対値で降順にソート\n",
    "correlations = train_val.corr()['y'].abs().sort_values(ascending=False)\n",
    "print(\"相関係数（上位10項目）:\")\n",
    "print(correlations[1:11])  # yとの相関を除いて上位10項目を表示\n",
    "\n",
    "# 2. より詳細な分析のために、特徴量とyの関係を可視化\n",
    "import matplotlib.pyplot as plt\n",
    "import seaborn as sns\n",
    "\n",
    "# 相関係数上位5項目についてボックスプロットを作成\n",
    "top_features = correlations[1:6].index\n",
    "fig, axes = plt.subplots(2, 3, figsize=(15, 10))\n",
    "axes = axes.ravel()\n",
    "\n",
    "\n",
    "for idx, feature in enumerate(top_features):\n",
    "    sns.boxplot(data=train_val, x='y', y=feature, ax=axes[idx])\n",
    "    axes[idx].set_title(f'{feature} vs y')\n",
    "\n",
    "\n",
    "\n",
    "plt.tight_layout()\n",
    "plt.show()"
   ]
  },
  {
   "cell_type": "code",
   "execution_count": null,
   "id": "9db4c2d9-9d81-4933-ba1c-ce4e92138a05",
   "metadata": {},
   "outputs": [],
   "source": []
  },
  {
   "cell_type": "code",
   "execution_count": null,
   "id": "0ecfbc87-3f6f-46d7-aeda-c7adbdfc263a",
   "metadata": {},
   "outputs": [],
   "source": []
  }
 ],
 "metadata": {
  "kernelspec": {
   "display_name": "Python [conda env:base] *",
   "language": "python",
   "name": "conda-base-py"
  },
  "language_info": {
   "codemirror_mode": {
    "name": "ipython",
    "version": 3
   },
   "file_extension": ".py",
   "mimetype": "text/x-python",
   "name": "python",
   "nbconvert_exporter": "python",
   "pygments_lexer": "ipython3",
   "version": "3.12.7"
  }
 },
 "nbformat": 4,
 "nbformat_minor": 5
}
