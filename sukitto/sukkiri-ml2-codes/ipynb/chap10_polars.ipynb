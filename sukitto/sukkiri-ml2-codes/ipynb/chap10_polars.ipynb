{
 "cells": [
  {
   "cell_type": "code",
   "execution_count": 1,
   "id": "7fa8dc54-6d55-4f95-a82c-0ebcd97ec0eb",
   "metadata": {},
   "outputs": [],
   "source": [
    "import polars as pl"
   ]
  },
  {
   "cell_type": "code",
   "execution_count": 3,
   "id": "783c17a1-2aae-44ac-b70a-76e23dc1464e",
   "metadata": {},
   "outputs": [
    {
     "data": {
      "text/html": [
       "<div><style>\n",
       ".dataframe > thead > tr,\n",
       ".dataframe > tbody > tr {\n",
       "  text-align: right;\n",
       "  white-space: pre-wrap;\n",
       "}\n",
       "</style>\n",
       "<small>shape: (731, 6)</small><table border=\"1\" class=\"dataframe\"><thead><tr><th>dteday</th><th>holiday</th><th>weekday</th><th>workingday</th><th>weather_id</th><th>cnt</th></tr><tr><td>str</td><td>i64</td><td>i64</td><td>i64</td><td>i64</td><td>i64</td></tr></thead><tbody><tr><td>&quot;2011-01-01&quot;</td><td>0</td><td>6</td><td>0</td><td>2</td><td>985</td></tr><tr><td>&quot;2011-01-02&quot;</td><td>0</td><td>0</td><td>0</td><td>2</td><td>801</td></tr><tr><td>&quot;2011-01-03&quot;</td><td>0</td><td>1</td><td>1</td><td>1</td><td>1349</td></tr><tr><td>&quot;2011-01-04&quot;</td><td>0</td><td>2</td><td>1</td><td>1</td><td>1562</td></tr><tr><td>&quot;2011-01-05&quot;</td><td>0</td><td>3</td><td>1</td><td>1</td><td>1600</td></tr><tr><td>&hellip;</td><td>&hellip;</td><td>&hellip;</td><td>&hellip;</td><td>&hellip;</td><td>&hellip;</td></tr><tr><td>&quot;2012-12-27&quot;</td><td>0</td><td>4</td><td>1</td><td>2</td><td>2114</td></tr><tr><td>&quot;2012-12-28&quot;</td><td>0</td><td>5</td><td>1</td><td>2</td><td>3095</td></tr><tr><td>&quot;2012-12-29&quot;</td><td>0</td><td>6</td><td>0</td><td>2</td><td>1341</td></tr><tr><td>&quot;2012-12-30&quot;</td><td>0</td><td>0</td><td>0</td><td>1</td><td>1796</td></tr><tr><td>&quot;2012-12-31&quot;</td><td>0</td><td>1</td><td>1</td><td>2</td><td>2729</td></tr></tbody></table></div>"
      ],
      "text/plain": [
       "shape: (731, 6)\n",
       "┌────────────┬─────────┬─────────┬────────────┬────────────┬──────┐\n",
       "│ dteday     ┆ holiday ┆ weekday ┆ workingday ┆ weather_id ┆ cnt  │\n",
       "│ ---        ┆ ---     ┆ ---     ┆ ---        ┆ ---        ┆ ---  │\n",
       "│ str        ┆ i64     ┆ i64     ┆ i64        ┆ i64        ┆ i64  │\n",
       "╞════════════╪═════════╪═════════╪════════════╪════════════╪══════╡\n",
       "│ 2011-01-01 ┆ 0       ┆ 6       ┆ 0          ┆ 2          ┆ 985  │\n",
       "│ 2011-01-02 ┆ 0       ┆ 0       ┆ 0          ┆ 2          ┆ 801  │\n",
       "│ 2011-01-03 ┆ 0       ┆ 1       ┆ 1          ┆ 1          ┆ 1349 │\n",
       "│ 2011-01-04 ┆ 0       ┆ 2       ┆ 1          ┆ 1          ┆ 1562 │\n",
       "│ 2011-01-05 ┆ 0       ┆ 3       ┆ 1          ┆ 1          ┆ 1600 │\n",
       "│ …          ┆ …       ┆ …       ┆ …          ┆ …          ┆ …    │\n",
       "│ 2012-12-27 ┆ 0       ┆ 4       ┆ 1          ┆ 2          ┆ 2114 │\n",
       "│ 2012-12-28 ┆ 0       ┆ 5       ┆ 1          ┆ 2          ┆ 3095 │\n",
       "│ 2012-12-29 ┆ 0       ┆ 6       ┆ 0          ┆ 2          ┆ 1341 │\n",
       "│ 2012-12-30 ┆ 0       ┆ 0       ┆ 0          ┆ 1          ┆ 1796 │\n",
       "│ 2012-12-31 ┆ 0       ┆ 1       ┆ 1          ┆ 2          ┆ 2729 │\n",
       "└────────────┴─────────┴─────────┴────────────┴────────────┴──────┘"
      ]
     },
     "execution_count": 3,
     "metadata": {},
     "output_type": "execute_result"
    }
   ],
   "source": [
    "\n",
    "df"
   ]
  },
  {
   "cell_type": "code",
   "execution_count": 176,
   "id": "c0a0e104-57be-4d4e-88e0-2998dfa81c6e",
   "metadata": {},
   "outputs": [
    {
     "data": {
      "text/html": [
       "<div><style>\n",
       ".dataframe > thead > tr,\n",
       ".dataframe > tbody > tr {\n",
       "  text-align: right;\n",
       "  white-space: pre-wrap;\n",
       "}\n",
       "</style>\n",
       "<small>shape: (10, 6)</small><table border=\"1\" class=\"dataframe\"><thead><tr><th>dteday</th><th>holiday</th><th>weekday</th><th>workingday</th><th>cnt</th><th>weather</th></tr><tr><td>str</td><td>i64</td><td>i64</td><td>i64</td><td>i64</td><td>str</td></tr></thead><tbody><tr><td>&quot;2012-12-22&quot;</td><td>0</td><td>6</td><td>0</td><td>1749</td><td>&quot;晴れ&quot;</td></tr><tr><td>&quot;2012-12-23&quot;</td><td>0</td><td>0</td><td>0</td><td>1787</td><td>&quot;晴れ&quot;</td></tr><tr><td>&quot;2012-12-24&quot;</td><td>0</td><td>1</td><td>1</td><td>920</td><td>&quot;曇り&quot;</td></tr><tr><td>&quot;2012-12-25&quot;</td><td>1</td><td>2</td><td>0</td><td>1013</td><td>&quot;曇り&quot;</td></tr><tr><td>&quot;2012-12-26&quot;</td><td>0</td><td>3</td><td>1</td><td>441</td><td>&quot;雨&quot;</td></tr><tr><td>&quot;2012-12-27&quot;</td><td>0</td><td>4</td><td>1</td><td>2114</td><td>&quot;曇り&quot;</td></tr><tr><td>&quot;2012-12-28&quot;</td><td>0</td><td>5</td><td>1</td><td>3095</td><td>&quot;曇り&quot;</td></tr><tr><td>&quot;2012-12-29&quot;</td><td>0</td><td>6</td><td>0</td><td>1341</td><td>&quot;曇り&quot;</td></tr><tr><td>&quot;2012-12-30&quot;</td><td>0</td><td>0</td><td>0</td><td>1796</td><td>&quot;晴れ&quot;</td></tr><tr><td>&quot;2012-12-31&quot;</td><td>0</td><td>1</td><td>1</td><td>2729</td><td>&quot;曇り&quot;</td></tr></tbody></table></div>"
      ],
      "text/plain": [
       "shape: (10, 6)\n",
       "┌────────────┬─────────┬─────────┬────────────┬──────┬─────────┐\n",
       "│ dteday     ┆ holiday ┆ weekday ┆ workingday ┆ cnt  ┆ weather │\n",
       "│ ---        ┆ ---     ┆ ---     ┆ ---        ┆ ---  ┆ ---     │\n",
       "│ str        ┆ i64     ┆ i64     ┆ i64        ┆ i64  ┆ str     │\n",
       "╞════════════╪═════════╪═════════╪════════════╪══════╪═════════╡\n",
       "│ 2012-12-22 ┆ 0       ┆ 6       ┆ 0          ┆ 1749 ┆ 晴れ    │\n",
       "│ 2012-12-23 ┆ 0       ┆ 0       ┆ 0          ┆ 1787 ┆ 晴れ    │\n",
       "│ 2012-12-24 ┆ 0       ┆ 1       ┆ 1          ┆ 920  ┆ 曇り    │\n",
       "│ 2012-12-25 ┆ 1       ┆ 2       ┆ 0          ┆ 1013 ┆ 曇り    │\n",
       "│ 2012-12-26 ┆ 0       ┆ 3       ┆ 1          ┆ 441  ┆ 雨      │\n",
       "│ 2012-12-27 ┆ 0       ┆ 4       ┆ 1          ┆ 2114 ┆ 曇り    │\n",
       "│ 2012-12-28 ┆ 0       ┆ 5       ┆ 1          ┆ 3095 ┆ 曇り    │\n",
       "│ 2012-12-29 ┆ 0       ┆ 6       ┆ 0          ┆ 1341 ┆ 曇り    │\n",
       "│ 2012-12-30 ┆ 0       ┆ 0       ┆ 0          ┆ 1796 ┆ 晴れ    │\n",
       "│ 2012-12-31 ┆ 0       ┆ 1       ┆ 1          ┆ 2729 ┆ 曇り    │\n",
       "└────────────┴─────────┴─────────┴────────────┴──────┴─────────┘"
      ]
     },
     "execution_count": 176,
     "metadata": {},
     "output_type": "execute_result"
    }
   ],
   "source": [
    "df = pl.read_csv('bike.tsv', separator='\\t')\n",
    "df2 = pl.read_csv('weather.csv', encoding='shift-jis')\n",
    "df = df.join(df2, left_on='weather_id', right_on='weather_id')\n",
    "df = df.drop('weather_id')\n",
    "df.tail(10)"
   ]
  },
  {
   "cell_type": "code",
   "execution_count": 182,
   "id": "04ea0ead-6d74-413d-88d7-ec999ddf7843",
   "metadata": {},
   "outputs": [
    {
     "data": {
      "text/html": [
       "<div><style>\n",
       ".dataframe > thead > tr,\n",
       ".dataframe > tbody > tr {\n",
       "  text-align: right;\n",
       "  white-space: pre-wrap;\n",
       "}\n",
       "</style>\n",
       "<small>shape: (731, 7)</small><table border=\"1\" class=\"dataframe\"><thead><tr><th>dteday</th><th>holiday</th><th>weekday</th><th>workingday</th><th>cnt</th><th>weather</th><th>weekend</th></tr><tr><td>str</td><td>i64</td><td>i64</td><td>i64</td><td>i64</td><td>str</td><td>i32</td></tr></thead><tbody><tr><td>&quot;2011-01-01&quot;</td><td>0</td><td>6</td><td>0</td><td>985</td><td>&quot;曇り&quot;</td><td>1</td></tr><tr><td>&quot;2011-01-02&quot;</td><td>0</td><td>0</td><td>0</td><td>801</td><td>&quot;曇り&quot;</td><td>0</td></tr><tr><td>&quot;2011-01-03&quot;</td><td>0</td><td>1</td><td>1</td><td>1349</td><td>&quot;晴れ&quot;</td><td>0</td></tr><tr><td>&quot;2011-01-04&quot;</td><td>0</td><td>2</td><td>1</td><td>1562</td><td>&quot;晴れ&quot;</td><td>0</td></tr><tr><td>&quot;2011-01-05&quot;</td><td>0</td><td>3</td><td>1</td><td>1600</td><td>&quot;晴れ&quot;</td><td>0</td></tr><tr><td>&hellip;</td><td>&hellip;</td><td>&hellip;</td><td>&hellip;</td><td>&hellip;</td><td>&hellip;</td><td>&hellip;</td></tr><tr><td>&quot;2012-12-27&quot;</td><td>0</td><td>4</td><td>1</td><td>2114</td><td>&quot;曇り&quot;</td><td>0</td></tr><tr><td>&quot;2012-12-28&quot;</td><td>0</td><td>5</td><td>1</td><td>3095</td><td>&quot;曇り&quot;</td><td>1</td></tr><tr><td>&quot;2012-12-29&quot;</td><td>0</td><td>6</td><td>0</td><td>1341</td><td>&quot;曇り&quot;</td><td>1</td></tr><tr><td>&quot;2012-12-30&quot;</td><td>0</td><td>0</td><td>0</td><td>1796</td><td>&quot;晴れ&quot;</td><td>0</td></tr><tr><td>&quot;2012-12-31&quot;</td><td>0</td><td>1</td><td>1</td><td>2729</td><td>&quot;曇り&quot;</td><td>0</td></tr></tbody></table></div>"
      ],
      "text/plain": [
       "shape: (731, 7)\n",
       "┌────────────┬─────────┬─────────┬────────────┬──────┬─────────┬─────────┐\n",
       "│ dteday     ┆ holiday ┆ weekday ┆ workingday ┆ cnt  ┆ weather ┆ weekend │\n",
       "│ ---        ┆ ---     ┆ ---     ┆ ---        ┆ ---  ┆ ---     ┆ ---     │\n",
       "│ str        ┆ i64     ┆ i64     ┆ i64        ┆ i64  ┆ str     ┆ i32     │\n",
       "╞════════════╪═════════╪═════════╪════════════╪══════╪═════════╪═════════╡\n",
       "│ 2011-01-01 ┆ 0       ┆ 6       ┆ 0          ┆ 985  ┆ 曇り    ┆ 1       │\n",
       "│ 2011-01-02 ┆ 0       ┆ 0       ┆ 0          ┆ 801  ┆ 曇り    ┆ 0       │\n",
       "│ 2011-01-03 ┆ 0       ┆ 1       ┆ 1          ┆ 1349 ┆ 晴れ    ┆ 0       │\n",
       "│ 2011-01-04 ┆ 0       ┆ 2       ┆ 1          ┆ 1562 ┆ 晴れ    ┆ 0       │\n",
       "│ 2011-01-05 ┆ 0       ┆ 3       ┆ 1          ┆ 1600 ┆ 晴れ    ┆ 0       │\n",
       "│ …          ┆ …       ┆ …       ┆ …          ┆ …    ┆ …       ┆ …       │\n",
       "│ 2012-12-27 ┆ 0       ┆ 4       ┆ 1          ┆ 2114 ┆ 曇り    ┆ 0       │\n",
       "│ 2012-12-28 ┆ 0       ┆ 5       ┆ 1          ┆ 3095 ┆ 曇り    ┆ 1       │\n",
       "│ 2012-12-29 ┆ 0       ┆ 6       ┆ 0          ┆ 1341 ┆ 曇り    ┆ 1       │\n",
       "│ 2012-12-30 ┆ 0       ┆ 0       ┆ 0          ┆ 1796 ┆ 晴れ    ┆ 0       │\n",
       "│ 2012-12-31 ┆ 0       ┆ 1       ┆ 1          ┆ 2729 ┆ 曇り    ┆ 0       │\n",
       "└────────────┴─────────┴─────────┴────────────┴──────┴─────────┴─────────┘"
      ]
     },
     "execution_count": 182,
     "metadata": {},
     "output_type": "execute_result"
    }
   ],
   "source": [
    "# 金曜か土曜ならば１とする週末フラグ列を作ってください。\n",
    "df = df.with_columns(\n",
    "    pl.when((pl.col(\"weekday\")==5) | (pl.col(\"weekday\")==6)).then(1).otherwise(0).alias(\"weekend\")\n",
    ")"
   ]
  },
  {
   "cell_type": "code",
   "execution_count": 190,
   "id": "15dd2e85-836e-4418-80e7-3ae37c87aae7",
   "metadata": {},
   "outputs": [
    {
     "data": {
      "text/html": [
       "<div><style>\n",
       ".dataframe > thead > tr,\n",
       ".dataframe > tbody > tr {\n",
       "  text-align: right;\n",
       "  white-space: pre-wrap;\n",
       "}\n",
       "</style>\n",
       "<small>shape: (3, 2)</small><table border=\"1\" class=\"dataframe\"><thead><tr><th>weather</th><th>cnt</th></tr><tr><td>str</td><td>i64</td></tr></thead><tbody><tr><td>&quot;曇り&quot;</td><td>725432</td></tr><tr><td>&quot;雨&quot;</td><td>28792</td></tr><tr><td>&quot;晴れ&quot;</td><td>1542338</td></tr></tbody></table></div>"
      ],
      "text/plain": [
       "shape: (3, 2)\n",
       "┌─────────┬─────────┐\n",
       "│ weather ┆ cnt     │\n",
       "│ ---     ┆ ---     │\n",
       "│ str     ┆ i64     │\n",
       "╞═════════╪═════════╡\n",
       "│ 曇り    ┆ 725432  │\n",
       "│ 雨      ┆ 28792   │\n",
       "│ 晴れ    ┆ 1542338 │\n",
       "└─────────┴─────────┘"
      ]
     },
     "execution_count": 190,
     "metadata": {},
     "output_type": "execute_result"
    }
   ],
   "source": [
    "df.filter(pl.col(\"workingday\")==1).group_by(\"weather\").agg(pl.col(\"cnt\").sum())"
   ]
  },
  {
   "cell_type": "code",
   "execution_count": 174,
   "id": "6565b851-6866-4bc9-a3be-0bcaab627cb9",
   "metadata": {},
   "outputs": [
    {
     "data": {
      "text/html": [
       "<div><style>\n",
       ".dataframe > thead > tr,\n",
       ".dataframe > tbody > tr {\n",
       "  text-align: right;\n",
       "  white-space: pre-wrap;\n",
       "}\n",
       "</style>\n",
       "<small>shape: (3, 2)</small><table border=\"1\" class=\"dataframe\"><thead><tr><th>weather</th><th>cnt</th></tr><tr><td>str</td><td>f64</td></tr></thead><tbody><tr><td>&quot;晴れ&quot;</td><td>5023.90228</td></tr><tr><td>&quot;雨&quot;</td><td>1799.5</td></tr><tr><td>&quot;曇り&quot;</td><td>4098.485876</td></tr></tbody></table></div>"
      ],
      "text/plain": [
       "shape: (3, 2)\n",
       "┌─────────┬─────────────┐\n",
       "│ weather ┆ cnt         │\n",
       "│ ---     ┆ ---         │\n",
       "│ str     ┆ f64         │\n",
       "╞═════════╪═════════════╡\n",
       "│ 晴れ    ┆ 5023.90228  │\n",
       "│ 雨      ┆ 1799.5      │\n",
       "│ 曇り    ┆ 4098.485876 │\n",
       "└─────────┴─────────────┘"
      ]
     },
     "execution_count": 174,
     "metadata": {},
     "output_type": "execute_result"
    }
   ],
   "source": [
    "df.filter(pl.col(\"workingday\") == 1).group_by(\"weather\").agg(\n",
    "     pl.col(\"cnt\").mean()\n",
    ")"
   ]
  },
  {
   "cell_type": "code",
   "execution_count": 53,
   "id": "ca7192eb-90e3-4864-88f7-bb8033269b64",
   "metadata": {},
   "outputs": [
    {
     "data": {
      "text/html": [
       "<div><style>\n",
       ".dataframe > thead > tr,\n",
       ".dataframe > tbody > tr {\n",
       "  text-align: right;\n",
       "  white-space: pre-wrap;\n",
       "}\n",
       "</style>\n",
       "<small>shape: (731, 4)</small><table border=\"1\" class=\"dataframe\"><thead><tr><th>dteday</th><th>holiday</th><th>weekday</th><th>workingday</th></tr><tr><td>str</td><td>i64</td><td>i64</td><td>i64</td></tr></thead><tbody><tr><td>&quot;2011-01-01&quot;</td><td>0</td><td>6</td><td>0</td></tr><tr><td>&quot;2011-01-02&quot;</td><td>0</td><td>0</td><td>0</td></tr><tr><td>&quot;2011-01-03&quot;</td><td>0</td><td>1</td><td>1</td></tr><tr><td>&quot;2011-01-04&quot;</td><td>0</td><td>2</td><td>1</td></tr><tr><td>&quot;2011-01-05&quot;</td><td>0</td><td>3</td><td>1</td></tr><tr><td>&hellip;</td><td>&hellip;</td><td>&hellip;</td><td>&hellip;</td></tr><tr><td>&quot;2012-12-27&quot;</td><td>0</td><td>4</td><td>1</td></tr><tr><td>&quot;2012-12-28&quot;</td><td>0</td><td>5</td><td>1</td></tr><tr><td>&quot;2012-12-29&quot;</td><td>0</td><td>6</td><td>0</td></tr><tr><td>&quot;2012-12-30&quot;</td><td>0</td><td>0</td><td>0</td></tr><tr><td>&quot;2012-12-31&quot;</td><td>0</td><td>1</td><td>1</td></tr></tbody></table></div>"
      ],
      "text/plain": [
       "shape: (731, 4)\n",
       "┌────────────┬─────────┬─────────┬────────────┐\n",
       "│ dteday     ┆ holiday ┆ weekday ┆ workingday │\n",
       "│ ---        ┆ ---     ┆ ---     ┆ ---        │\n",
       "│ str        ┆ i64     ┆ i64     ┆ i64        │\n",
       "╞════════════╪═════════╪═════════╪════════════╡\n",
       "│ 2011-01-01 ┆ 0       ┆ 6       ┆ 0          │\n",
       "│ 2011-01-02 ┆ 0       ┆ 0       ┆ 0          │\n",
       "│ 2011-01-03 ┆ 0       ┆ 1       ┆ 1          │\n",
       "│ 2011-01-04 ┆ 0       ┆ 2       ┆ 1          │\n",
       "│ 2011-01-05 ┆ 0       ┆ 3       ┆ 1          │\n",
       "│ …          ┆ …       ┆ …       ┆ …          │\n",
       "│ 2012-12-27 ┆ 0       ┆ 4       ┆ 1          │\n",
       "│ 2012-12-28 ┆ 0       ┆ 5       ┆ 1          │\n",
       "│ 2012-12-29 ┆ 0       ┆ 6       ┆ 0          │\n",
       "│ 2012-12-30 ┆ 0       ┆ 0       ┆ 0          │\n",
       "│ 2012-12-31 ┆ 0       ┆ 1       ┆ 1          │\n",
       "└────────────┴─────────┴─────────┴────────────┘"
      ]
     },
     "execution_count": 53,
     "metadata": {},
     "output_type": "execute_result"
    }
   ],
   "source": [
    "\n",
    "df3 = df.select('dteday','holiday')\n",
    "df4 = df.select('weekday','workingday')\n",
    "\n",
    "# 横に結合\n",
    "pl.concat([df3, df4], how='horizontal')"
   ]
  },
  {
   "cell_type": "code",
   "execution_count": 100,
   "id": "90d31338-285d-4ccc-b4b6-76c500076d27",
   "metadata": {},
   "outputs": [
    {
     "data": {
      "text/html": [
       "<div><style>\n",
       ".dataframe > thead > tr,\n",
       ".dataframe > tbody > tr {\n",
       "  text-align: right;\n",
       "  white-space: pre-wrap;\n",
       "}\n",
       "</style>\n",
       "<small>shape: (731,)</small><table border=\"1\" class=\"dataframe\"><thead><tr><th>cnt</th></tr><tr><td>i64</td></tr></thead><tbody><tr><td>980</td></tr><tr><td>800</td></tr><tr><td>1350</td></tr><tr><td>1560</td></tr><tr><td>1600</td></tr><tr><td>&hellip;</td></tr><tr><td>2110</td></tr><tr><td>3100</td></tr><tr><td>1340</td></tr><tr><td>1800</td></tr><tr><td>2730</td></tr></tbody></table></div>"
      ],
      "text/plain": [
       "shape: (731,)\n",
       "Series: 'cnt' [i64]\n",
       "[\n",
       "\t980\n",
       "\t800\n",
       "\t1350\n",
       "\t1560\n",
       "\t1600\n",
       "\t…\n",
       "\t2110\n",
       "\t3100\n",
       "\t1340\n",
       "\t1800\n",
       "\t2730\n",
       "]"
      ]
     },
     "execution_count": 100,
     "metadata": {},
     "output_type": "execute_result"
    }
   ],
   "source": [
    "df.get_column('cnt').map_elements(lambda x: (round(x, -1)), return_dtype=pl.Int64)"
   ]
  },
  {
   "cell_type": "code",
   "execution_count": 41,
   "id": "76692307-8ad2-425c-ba50-bde5a205e004",
   "metadata": {},
   "outputs": [
    {
     "data": {
      "text/html": [
       "<div><style>\n",
       ".dataframe > thead > tr,\n",
       ".dataframe > tbody > tr {\n",
       "  text-align: right;\n",
       "  white-space: pre-wrap;\n",
       "}\n",
       "</style>\n",
       "<small>shape: (6, 2)</small><table border=\"1\" class=\"dataframe\"><thead><tr><th>weather_id</th><th>weather</th></tr><tr><td>i64</td><td>str</td></tr></thead><tbody><tr><td>1</td><td>&quot;晴れ&quot;</td></tr><tr><td>2</td><td>&quot;曇り&quot;</td></tr><tr><td>3</td><td>&quot;雨&quot;</td></tr><tr><td>1</td><td>&quot;晴れ&quot;</td></tr><tr><td>2</td><td>&quot;曇り&quot;</td></tr><tr><td>3</td><td>&quot;雨&quot;</td></tr></tbody></table></div>"
      ],
      "text/plain": [
       "shape: (6, 2)\n",
       "┌────────────┬─────────┐\n",
       "│ weather_id ┆ weather │\n",
       "│ ---        ┆ ---     │\n",
       "│ i64        ┆ str     │\n",
       "╞════════════╪═════════╡\n",
       "│ 1          ┆ 晴れ    │\n",
       "│ 2          ┆ 曇り    │\n",
       "│ 3          ┆ 雨      │\n",
       "│ 1          ┆ 晴れ    │\n",
       "│ 2          ┆ 曇り    │\n",
       "│ 3          ┆ 雨      │\n",
       "└────────────┴─────────┘"
      ]
     },
     "execution_count": 41,
     "metadata": {},
     "output_type": "execute_result"
    }
   ],
   "source": [
    "# 縦方向に結合\n",
    "pl.concat([df2, df2])"
   ]
  },
  {
   "cell_type": "code",
   "execution_count": 114,
   "id": "54c6f88b-bb20-4ed5-8748-959f5de75ec5",
   "metadata": {},
   "outputs": [
    {
     "data": {
      "text/html": [
       "<div><style>\n",
       ".dataframe > thead > tr,\n",
       ".dataframe > tbody > tr {\n",
       "  text-align: right;\n",
       "  white-space: pre-wrap;\n",
       "}\n",
       "</style>\n",
       "<small>shape: (1, 16)</small><table border=\"1\" class=\"dataframe\"><thead><tr><th>id</th><th>age</th><th>job</th><th>marital</th><th>education</th><th>default</th><th>amount</th><th>housing</th><th>loan</th><th>contact</th><th>day</th><th>month</th><th>duration</th><th>campaign</th><th>previous</th><th>y</th></tr><tr><td>u32</td><td>u32</td><td>u32</td><td>u32</td><td>u32</td><td>u32</td><td>u32</td><td>u32</td><td>u32</td><td>u32</td><td>u32</td><td>u32</td><td>u32</td><td>u32</td><td>u32</td><td>u32</td></tr></thead><tbody><tr><td>0</td><td>0</td><td>0</td><td>0</td><td>0</td><td>0</td><td>0</td><td>0</td><td>0</td><td>0</td><td>0</td><td>0</td><td>7044</td><td>0</td><td>0</td><td>0</td></tr></tbody></table></div>"
      ],
      "text/plain": [
       "shape: (1, 16)\n",
       "┌─────┬─────┬─────┬─────────┬───┬──────────┬──────────┬──────────┬─────┐\n",
       "│ id  ┆ age ┆ job ┆ marital ┆ … ┆ duration ┆ campaign ┆ previous ┆ y   │\n",
       "│ --- ┆ --- ┆ --- ┆ ---     ┆   ┆ ---      ┆ ---      ┆ ---      ┆ --- │\n",
       "│ u32 ┆ u32 ┆ u32 ┆ u32     ┆   ┆ u32      ┆ u32      ┆ u32      ┆ u32 │\n",
       "╞═════╪═════╪═════╪═════════╪═══╪══════════╪══════════╪══════════╪═════╡\n",
       "│ 0   ┆ 0   ┆ 0   ┆ 0       ┆ … ┆ 7044     ┆ 0        ┆ 0        ┆ 0   │\n",
       "└─────┴─────┴─────┴─────────┴───┴──────────┴──────────┴──────────┴─────┘"
      ]
     },
     "execution_count": 114,
     "metadata": {},
     "output_type": "execute_result"
    }
   ],
   "source": [
    "df = pl.read_csv('Bank.csv')\n",
    "# df.select(\n",
    "#     'age', 'amount', 'job'\n",
    "    \n",
    "# ).filter()\n",
    "\n",
    "df.null_count()"
   ]
  },
  {
   "cell_type": "code",
   "execution_count": null,
   "id": "63df688f-3322-4270-9658-9ea92d82b4ec",
   "metadata": {},
   "outputs": [],
   "source": []
  }
 ],
 "metadata": {
  "kernelspec": {
   "display_name": "Python 3 (ipykernel)",
   "language": "python",
   "name": "python3"
  },
  "language_info": {
   "codemirror_mode": {
    "name": "ipython",
    "version": 3
   },
   "file_extension": ".py",
   "mimetype": "text/x-python",
   "name": "python",
   "nbconvert_exporter": "python",
   "pygments_lexer": "ipython3",
   "version": "3.12.2"
  }
 },
 "nbformat": 4,
 "nbformat_minor": 5
}
