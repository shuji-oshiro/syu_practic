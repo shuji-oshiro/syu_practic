{
 "cells": [
  {
   "cell_type": "code",
   "execution_count": 1,
   "id": "9d478621-71fa-4779-a422-5253f454070f",
   "metadata": {},
   "outputs": [
    {
     "data": {
      "text/html": [
       "<div><style>\n",
       ".dataframe > thead > tr,\n",
       ".dataframe > tbody > tr {\n",
       "  text-align: right;\n",
       "  white-space: pre-wrap;\n",
       "}\n",
       "</style>\n",
       "<small>shape: (2, 11)</small><table border=\"1\" class=\"dataframe\"><thead><tr><th>PassengerId</th><th>Survived</th><th>Pclass</th><th>Sex</th><th>Age</th><th>SibSp</th><th>Parch</th><th>Ticket</th><th>Fare</th><th>Cabin</th><th>Embarked</th></tr><tr><td>i64</td><td>i64</td><td>i64</td><td>str</td><td>f64</td><td>i64</td><td>i64</td><td>str</td><td>f64</td><td>str</td><td>str</td></tr></thead><tbody><tr><td>1</td><td>0</td><td>3</td><td>&quot;male&quot;</td><td>22.0</td><td>1</td><td>0</td><td>&quot;A/5 21171&quot;</td><td>7.25</td><td>null</td><td>&quot;S&quot;</td></tr><tr><td>2</td><td>1</td><td>1</td><td>&quot;female&quot;</td><td>38.0</td><td>1</td><td>0</td><td>&quot;PC 17599&quot;</td><td>71.2833</td><td>&quot;C85&quot;</td><td>&quot;C&quot;</td></tr></tbody></table></div>"
      ],
      "text/plain": [
       "shape: (2, 11)\n",
       "┌─────────────┬──────────┬────────┬────────┬───┬───────────┬─────────┬───────┬──────────┐\n",
       "│ PassengerId ┆ Survived ┆ Pclass ┆ Sex    ┆ … ┆ Ticket    ┆ Fare    ┆ Cabin ┆ Embarked │\n",
       "│ ---         ┆ ---      ┆ ---    ┆ ---    ┆   ┆ ---       ┆ ---     ┆ ---   ┆ ---      │\n",
       "│ i64         ┆ i64      ┆ i64    ┆ str    ┆   ┆ str       ┆ f64     ┆ str   ┆ str      │\n",
       "╞═════════════╪══════════╪════════╪════════╪═══╪═══════════╪═════════╪═══════╪══════════╡\n",
       "│ 1           ┆ 0        ┆ 3      ┆ male   ┆ … ┆ A/5 21171 ┆ 7.25    ┆ null  ┆ S        │\n",
       "│ 2           ┆ 1        ┆ 1      ┆ female ┆ … ┆ PC 17599  ┆ 71.2833 ┆ C85   ┆ C        │\n",
       "└─────────────┴──────────┴────────┴────────┴───┴───────────┴─────────┴───────┴──────────┘"
      ]
     },
     "execution_count": 1,
     "metadata": {},
     "output_type": "execute_result"
    }
   ],
   "source": [
    "import polars as pl\n",
    "\n",
    "df = pl.read_csv(\"Survived.csv\")\n",
    "df.head(2)"
   ]
  },
  {
   "cell_type": "code",
   "execution_count": 5,
   "id": "4114ffd7-6fca-4f35-ad6c-c38c3d9c50c3",
   "metadata": {},
   "outputs": [
    {
     "data": {
      "text/html": [
       "<div><style>\n",
       ".dataframe > thead > tr,\n",
       ".dataframe > tbody > tr {\n",
       "  text-align: right;\n",
       "  white-space: pre-wrap;\n",
       "}\n",
       "</style>\n",
       "<small>shape: (2, 2)</small><table border=\"1\" class=\"dataframe\"><thead><tr><th>Survived</th><th>count</th></tr><tr><td>i64</td><td>u32</td></tr></thead><tbody><tr><td>1</td><td>342</td></tr><tr><td>0</td><td>549</td></tr></tbody></table></div>"
      ],
      "text/plain": [
       "shape: (2, 2)\n",
       "┌──────────┬───────┐\n",
       "│ Survived ┆ count │\n",
       "│ ---      ┆ ---   │\n",
       "│ i64      ┆ u32   │\n",
       "╞══════════╪═══════╡\n",
       "│ 1        ┆ 342   │\n",
       "│ 0        ┆ 549   │\n",
       "└──────────┴───────┘"
      ]
     },
     "execution_count": 5,
     "metadata": {},
     "output_type": "execute_result"
    }
   ],
   "source": [
    "df.get_column(\"Survived\").value_counts()"
   ]
  },
  {
   "cell_type": "code",
   "execution_count": 7,
   "id": "c86514b7-9016-475e-ba55-7fdd2ae05a66",
   "metadata": {},
   "outputs": [
    {
     "data": {
      "text/html": [
       "<div><style>\n",
       ".dataframe > thead > tr,\n",
       ".dataframe > tbody > tr {\n",
       "  text-align: right;\n",
       "  white-space: pre-wrap;\n",
       "}\n",
       "</style>\n",
       "<small>shape: (1, 11)</small><table border=\"1\" class=\"dataframe\"><thead><tr><th>PassengerId</th><th>Survived</th><th>Pclass</th><th>Sex</th><th>Age</th><th>SibSp</th><th>Parch</th><th>Ticket</th><th>Fare</th><th>Cabin</th><th>Embarked</th></tr><tr><td>u32</td><td>u32</td><td>u32</td><td>u32</td><td>u32</td><td>u32</td><td>u32</td><td>u32</td><td>u32</td><td>u32</td><td>u32</td></tr></thead><tbody><tr><td>0</td><td>0</td><td>0</td><td>0</td><td>177</td><td>0</td><td>0</td><td>0</td><td>0</td><td>687</td><td>2</td></tr></tbody></table></div>"
      ],
      "text/plain": [
       "shape: (1, 11)\n",
       "┌─────────────┬──────────┬────────┬─────┬───┬────────┬──────┬───────┬──────────┐\n",
       "│ PassengerId ┆ Survived ┆ Pclass ┆ Sex ┆ … ┆ Ticket ┆ Fare ┆ Cabin ┆ Embarked │\n",
       "│ ---         ┆ ---      ┆ ---    ┆ --- ┆   ┆ ---    ┆ ---  ┆ ---   ┆ ---      │\n",
       "│ u32         ┆ u32      ┆ u32    ┆ u32 ┆   ┆ u32    ┆ u32  ┆ u32   ┆ u32      │\n",
       "╞═════════════╪══════════╪════════╪═════╪═══╪════════╪══════╪═══════╪══════════╡\n",
       "│ 0           ┆ 0        ┆ 0      ┆ 0   ┆ … ┆ 0      ┆ 0    ┆ 687   ┆ 2        │\n",
       "└─────────────┴──────────┴────────┴─────┴───┴────────┴──────┴───────┴──────────┘"
      ]
     },
     "execution_count": 7,
     "metadata": {},
     "output_type": "execute_result"
    }
   ],
   "source": [
    "df.null_count()"
   ]
  },
  {
   "cell_type": "code",
   "execution_count": 19,
   "id": "e4d1a7f6-dbd5-4c43-bf85-0092498193a1",
   "metadata": {},
   "outputs": [],
   "source": [
    "df = df.with_columns(\n",
    "    pl.col(\"Age\").fill_null(strategy='mean'),\n",
    "    pl.col(\"Embarked\").fill_null(\n",
    "        pl.col(\"Embarked\").mode()\n",
    "    )\n",
    ")"
   ]
  },
  {
   "cell_type": "code",
   "execution_count": 23,
   "id": "07138803-e12b-4719-8464-3965a99efe67",
   "metadata": {},
   "outputs": [],
   "source": [
    "x = df.select(\n",
    "    ['Pclass', 'Age', 'SibSp', 'Parch', 'Fare']\n",
    "        \n",
    ")\n",
    "\n",
    "t = df.get_column('Survived')"
   ]
  },
  {
   "cell_type": "code",
   "execution_count": 25,
   "id": "3c4f7c94-ce8d-4421-acb9-5bd4b755a51e",
   "metadata": {},
   "outputs": [],
   "source": [
    "df2 = pl.read_csv(\n",
    "    'Survived.csv')"
   ]
  },
  {
   "cell_type": "code",
   "execution_count": 29,
   "id": "55878dfa-af43-42cd-b49f-e1b1252d320a",
   "metadata": {},
   "outputs": [
    {
     "data": {
      "text/plain": [
       "28.0"
      ]
     },
     "execution_count": 29,
     "metadata": {},
     "output_type": "execute_result"
    }
   ],
   "source": [
    "df2.get_column('Age').median()"
   ]
  },
  {
   "cell_type": "code",
   "execution_count": 33,
   "id": "4ee8dc1f-d8d6-40ff-8834-db3dbbd36ae9",
   "metadata": {},
   "outputs": [
    {
     "data": {
      "text/html": [
       "<div><style>\n",
       ".dataframe > thead > tr,\n",
       ".dataframe > tbody > tr {\n",
       "  text-align: right;\n",
       "  white-space: pre-wrap;\n",
       "}\n",
       "</style>\n",
       "<small>shape: (2, 2)</small><table border=\"1\" class=\"dataframe\"><thead><tr><th>Survived</th><th>Age</th></tr><tr><td>i64</td><td>f64</td></tr></thead><tbody><tr><td>0</td><td>30.626179</td></tr><tr><td>1</td><td>28.34369</td></tr></tbody></table></div>"
      ],
      "text/plain": [
       "shape: (2, 2)\n",
       "┌──────────┬───────────┐\n",
       "│ Survived ┆ Age       │\n",
       "│ ---      ┆ ---       │\n",
       "│ i64      ┆ f64       │\n",
       "╞══════════╪═══════════╡\n",
       "│ 0        ┆ 30.626179 │\n",
       "│ 1        ┆ 28.34369  │\n",
       "└──────────┴───────────┘"
      ]
     },
     "execution_count": 33,
     "metadata": {},
     "output_type": "execute_result"
    }
   ],
   "source": [
    "df2.group_by('Survived').agg(\n",
    "    pl.col('Age').mean()\n",
    ")"
   ]
  },
  {
   "cell_type": "code",
   "execution_count": 35,
   "id": "c7d35dd9-5e86-4bcf-ac7e-329775b6d2ff",
   "metadata": {},
   "outputs": [
    {
     "data": {
      "text/html": [
       "<div><style>\n",
       ".dataframe > thead > tr,\n",
       ".dataframe > tbody > tr {\n",
       "  text-align: right;\n",
       "  white-space: pre-wrap;\n",
       "}\n",
       "</style>\n",
       "<small>shape: (3, 2)</small><table border=\"1\" class=\"dataframe\"><thead><tr><th>Pclass</th><th>Age</th></tr><tr><td>i64</td><td>f64</td></tr></thead><tbody><tr><td>1</td><td>38.233441</td></tr><tr><td>2</td><td>29.87763</td></tr><tr><td>3</td><td>25.14062</td></tr></tbody></table></div>"
      ],
      "text/plain": [
       "shape: (3, 2)\n",
       "┌────────┬───────────┐\n",
       "│ Pclass ┆ Age       │\n",
       "│ ---    ┆ ---       │\n",
       "│ i64    ┆ f64       │\n",
       "╞════════╪═══════════╡\n",
       "│ 1      ┆ 38.233441 │\n",
       "│ 2      ┆ 29.87763  │\n",
       "│ 3      ┆ 25.14062  │\n",
       "└────────┴───────────┘"
      ]
     },
     "execution_count": 35,
     "metadata": {},
     "output_type": "execute_result"
    }
   ],
   "source": [
    "df2.group_by('Pclass').agg(\n",
    "    pl.col('Age').mean()\n",
    ")"
   ]
  },
  {
   "cell_type": "code",
   "execution_count": 65,
   "id": "a4dd19e2-47b4-46c2-8c85-15d97e5d3955",
   "metadata": {},
   "outputs": [
    {
     "data": {
      "text/html": [
       "<div><style>\n",
       ".dataframe > thead > tr,\n",
       ".dataframe > tbody > tr {\n",
       "  text-align: right;\n",
       "  white-space: pre-wrap;\n",
       "}\n",
       "</style>\n",
       "<small>shape: (2, 4)</small><table border=\"1\" class=\"dataframe\"><thead><tr><th>Survived</th><th>1</th><th>2</th><th>3</th></tr><tr><td>i64</td><td>f64</td><td>f64</td><td>f64</td></tr></thead><tbody><tr><td>0</td><td>43.695312</td><td>33.544444</td><td>26.555556</td></tr><tr><td>1</td><td>35.368197</td><td>25.901566</td><td>20.646118</td></tr></tbody></table></div>"
      ],
      "text/plain": [
       "shape: (2, 4)\n",
       "┌──────────┬───────────┬───────────┬───────────┐\n",
       "│ Survived ┆ 1         ┆ 2         ┆ 3         │\n",
       "│ ---      ┆ ---       ┆ ---       ┆ ---       │\n",
       "│ i64      ┆ f64       ┆ f64       ┆ f64       │\n",
       "╞══════════╪═══════════╪═══════════╪═══════════╡\n",
       "│ 0        ┆ 43.695312 ┆ 33.544444 ┆ 26.555556 │\n",
       "│ 1        ┆ 35.368197 ┆ 25.901566 ┆ 20.646118 │\n",
       "└──────────┴───────────┴───────────┴───────────┘"
      ]
     },
     "execution_count": 65,
     "metadata": {},
     "output_type": "execute_result"
    }
   ],
   "source": [
    "df2.pivot(\n",
    "    on='Pclass', index='Survived',values=\"Age\",\n",
    "    aggregate_function='mean', sort_columns=True\n",
    ")"
   ]
  },
  {
   "cell_type": "code",
   "execution_count": 69,
   "id": "f53bb500-2663-4bb7-87bd-b68a1d967b4e",
   "metadata": {},
   "outputs": [],
   "source": [
    "def condition(pclass:int, survived:int) -> pl.Expr:\n",
    "    condition1 = (pl.col('Pclass') == pclass)\n",
    "    condition2 = (pl.col('Survived') == survived)\n",
    "    condition3 = (pl.col('Age').is_null())\n",
    "    return condition1 & condition2 & condition3\n",
    "\n"
   ]
  },
  {
   "cell_type": "code",
   "execution_count": 101,
   "id": "29e29ebf-65be-4aa0-8c20-40149c602893",
   "metadata": {},
   "outputs": [],
   "source": [
    "df2 = df2.with_columns(\n",
    "    pl.when(condition(1, 0)).then(43).\n",
    "    when(condition(1, 1)).then(35).\n",
    "    when(condition(2, 0)).then(33).\n",
    "    when(condition(2, 1)).then(25).\n",
    "    when(condition(3, 0)).then(26).\n",
    "    when(condition(3, 1)).then(20).\n",
    "    otherwise(pl.col(\"Age\")).alias(\"Age\")\n",
    ")"
   ]
  },
  {
   "cell_type": "code",
   "execution_count": null,
   "id": "1704eff8-a4a6-4dec-883d-518d6bfe1865",
   "metadata": {},
   "outputs": [],
   "source": []
  },
  {
   "cell_type": "code",
   "execution_count": 156,
   "id": "741e8454-21d6-4434-adca-eaf1fec416ce",
   "metadata": {},
   "outputs": [],
   "source": [
    "df3 = df2.clone()\n",
    "\n",
    "df3.columns = [ c+\"_\" for c in df3.columns]\n",
    "\n",
    "x_temp = pl.concat([df2, df2.select(\"Sex\").to_dummies(drop_first=True)],how=\"horizontal\")"
   ]
  },
  {
   "cell_type": "code",
   "execution_count": 162,
   "id": "e40fed35-0e87-4471-a166-4d54d3329af9",
   "metadata": {},
   "outputs": [],
   "source": [
    "x_new = x_temp.drop(\"Sex\")"
   ]
  },
  {
   "cell_type": "code",
   "execution_count": null,
   "id": "daa6832b-c29d-433e-999c-98d9af38a994",
   "metadata": {},
   "outputs": [],
   "source": []
  }
 ],
 "metadata": {
  "kernelspec": {
   "display_name": "Python 3 (ipykernel)",
   "language": "python",
   "name": "python3"
  },
  "language_info": {
   "codemirror_mode": {
    "name": "ipython",
    "version": 3
   },
   "file_extension": ".py",
   "mimetype": "text/x-python",
   "name": "python",
   "nbconvert_exporter": "python",
   "pygments_lexer": "ipython3",
   "version": "3.12.2"
  }
 },
 "nbformat": 4,
 "nbformat_minor": 5
}
