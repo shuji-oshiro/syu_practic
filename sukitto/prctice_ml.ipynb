{
 "cells": [
  {
   "cell_type": "markdown",
   "id": "b3be2781-869d-4edb-b765-d360db9c699a",
   "metadata": {},
   "source": [
    "## 回帰モデルのバリエーション "
   ]
  },
  {
   "cell_type": "markdown",
   "id": "9d28a2a1-2943-4400-a128-de90c1ed7087",
   "metadata": {},
   "source": [
    "### リッジ回帰  \n",
    "#### 係数が大きくなりすぎないよう制約を加えた回帰モデル過学習防止につながる 正規化項として「係数の2乗の合計」を用いる\n",
    "バイアスが高い：予測結果自体は密集しているが、根本的な予測結果の平均値が100から遠くへ離れている  \n",
    "    →対処方法：モデルを複雑にして、訓練データの様々な法則をモデルに学習させる　※弊害として学習になりえる\n",
    "バリアンスが高い：予測結果の平均は100に近いが予測結果自体にばらつきがおおきく生じている。※モデルが複雑なら予測結果のばらつきが大きくなる\n",
    "    →対処方法：データの件数を増やす、同じような学習結果になる分析手法を選択する\n",
    "    \n",
    "実際と予測の誤差 = バイアス＋バリアンス＋ノイズ（外れ値）"
   ]
  },
  {
   "cell_type": "code",
   "execution_count": 18,
   "id": "7e37b39a-3db4-4a99-8d62-693d5a7cc007",
   "metadata": {},
   "outputs": [
    {
     "data": {
      "text/plain": [
       "array(['x0', 'x1', 'x2', 'x0^2', 'x0 x1', 'x0 x2', 'x1^2', 'x1 x2',\n",
       "       'x2^2'], dtype=object)"
      ]
     },
     "execution_count": 18,
     "metadata": {},
     "output_type": "execute_result"
    }
   ],
   "source": [
    "import pandas as pd\n",
    "from sklearn.model_selection import train_test_split\n",
    "from sklearn.preprocessing import StandardScaler\n",
    "\n",
    "df = pd.read_csv(\"sukkiri-ml2-codes/datafiles/Boston.csv\")\n",
    "df_str = df[[\"CRIME\"]]\n",
    "df_dummy = pd.get_dummies(df_str, drop_first=True) #文字列データを数値化する\n",
    "df_without = df.drop(df_str.columns ,axis=1)\n",
    "df2 = pd.concat([df_without, df_dummy], axis=1)\n",
    "\n",
    "df2 =df2.fillna(df2.mean())\n",
    "\n",
    "df2 = df2.drop([76]) #外れ値削除\n",
    "\n",
    "t=df2[[\"PRICE\"]]\n",
    "x=df2.loc[:,[\"RM\",\"PTRATIO\",\"LSTAT\"]]\n",
    "\n",
    "sc = StandardScaler()#データの標準化\n",
    "sc_x = sc.fit_transform(x)\n",
    "sc2 = StandardScaler()\n",
    "sc_t = sc2.fit_transform(t)\n",
    "\n",
    "from sklearn.preprocessing import PolynomialFeatures #予測精度を上げるために必要な多項式公や交互作用特徴量を作成するツール\n",
    "pf = PolynomialFeatures(degree=2, include_bias=False)\n",
    "pf_x = pf.fit_transform(sc_x)\n",
    "pf.get_feature_names_out() #カラム番号で管理されているので使いづらい"
   ]
  },
  {
   "cell_type": "markdown",
   "id": "469c57d9-38e9-43e8-a149-26124600a28e",
   "metadata": {},
   "source": [
    "### 線形回帰で過学習が起きる事を確認"
   ]
  },
  {
   "cell_type": "code",
   "execution_count": 110,
   "id": "e46c9b52-501b-4c22-910a-67294e943571",
   "metadata": {},
   "outputs": [
    {
     "name": "stdout",
     "output_type": "stream",
     "text": [
      "0.8763373117732821\n"
     ]
    },
    {
     "data": {
      "text/plain": [
       "0.5490731214664921"
      ]
     },
     "execution_count": 110,
     "metadata": {},
     "output_type": "execute_result"
    }
   ],
   "source": [
    "from sklearn.linear_model import LinearRegression\n",
    "\n",
    "x_train, x_test, y_train, y_test =train_test_split(pf_x, sc_t, test_size=0.3, random_state=0)\n",
    "\n",
    "model = LinearRegression()\n",
    "model.fit(x_train,y_train)\n",
    "\n",
    "print(model.score(x_train, y_train))\n",
    "model.score(x_test,y_test)"
   ]
  },
  {
   "cell_type": "markdown",
   "id": "7287ea84-6335-4e98-a93d-34f02925ed22",
   "metadata": {},
   "source": [
    "### リッジ回帰で過学習が起こるか確認"
   ]
  },
  {
   "cell_type": "code",
   "execution_count": 113,
   "id": "31661574-c27e-4617-8095-6560c454c188",
   "metadata": {},
   "outputs": [
    {
     "name": "stdout",
     "output_type": "stream",
     "text": [
      "0.8658617097578485\n",
      "0.5907242365074143\n"
     ]
    }
   ],
   "source": [
    "from sklearn.linear_model import Ridge\n",
    "\n",
    "ridmodel = Ridge(alpha=10)#alpha=定数　適正な数値で過学習防止、数値が小さすぎると通常の回帰分析に、大きすぎると予測性能が悪くなる\n",
    "ridmodel.fit(x_train, y_train)\n",
    "\n",
    "print(ridmodel.score(x_train, y_train))\n",
    "print(ridmodel.score(x_test, y_test))"
   ]
  },
  {
   "cell_type": "markdown",
   "id": "3e7e4d7f-64a3-4d4c-b1ae-6250f3546cb2",
   "metadata": {},
   "source": [
    "### ラッソ回帰  \n",
    "#### 予測にあまり役に立たないような特徴量を学習中に削除する　 正規化項として「係数の絶対値の合計」を用いる"
   ]
  },
  {
   "cell_type": "code",
   "execution_count": 116,
   "id": "c767021f-e817-47b6-a274-91223e79247c",
   "metadata": {},
   "outputs": [
    {
     "name": "stdout",
     "output_type": "stream",
     "text": [
      "0.819163876203935\n"
     ]
    },
    {
     "data": {
      "text/plain": [
       "x0       0.409953\n",
       "x1      -0.108089\n",
       "x2      -0.244670\n",
       "x0^2     0.151187\n",
       "x0 x1   -0.000000\n",
       "x0 x2   -0.021443\n",
       "x1^2    -0.000000\n",
       "x1 x2    0.000000\n",
       "x2^2     0.000000\n",
       "dtype: float64"
      ]
     },
     "execution_count": 116,
     "metadata": {},
     "output_type": "execute_result"
    }
   ],
   "source": [
    "from sklearn.linear_model import Lasso\n",
    "\n",
    "x_train, x_test, y_train, y_test =train_test_split(pf_x, sc_t, test_size=0.3, random_state=0)\n",
    "\n",
    "model = Lasso(alpha=0.1)\n",
    "model.fit(x_train,y_train)\n",
    "\n",
    "print(model.score(x_train, y_train))\n",
    "model.score(x_test,y_test)\n",
    "\n",
    "weg = model.coef_\n",
    "pd.Series(weg,index=pf.get_feature_names_out())"
   ]
  },
  {
   "cell_type": "markdown",
   "id": "319ddd34-bd91-4f9f-abd6-d2727198b5bf",
   "metadata": {},
   "source": [
    "### 回帰木  \n",
    "#### 回帰のためのフローチャート"
   ]
  },
  {
   "cell_type": "code",
   "execution_count": 130,
   "id": "909bbec4-c6b5-4849-a67b-5e8e6cbd68f5",
   "metadata": {},
   "outputs": [
    {
     "data": {
      "text/plain": [
       "ZN         0.000008\n",
       "INDUS      0.003588\n",
       "CHAS       0.000000\n",
       "NOX        0.028132\n",
       "RM         0.766687\n",
       "AGE        0.016723\n",
       "DIS        0.003451\n",
       "RAD        0.009045\n",
       "TAX        0.012735\n",
       "PTRATIO    0.008856\n",
       "LSTAT      0.150775\n",
       "dtype: float64"
      ]
     },
     "execution_count": 130,
     "metadata": {},
     "output_type": "execute_result"
    }
   ],
   "source": [
    "df2.head()\n",
    "\n",
    "x = df2.loc[:,\"ZN\":\"LSTAT\"]\n",
    "t = df2[\"PRICE\"]\n",
    "x_train, x_test, y_train, y_test =train_test_split(x, t, test_size=0.3, random_state=0)\n",
    "\n",
    "from sklearn.tree import DecisionTreeRegressor #回帰木バージョン\n",
    "\n",
    "#木の深さの最大を10\n",
    "model = DecisionTreeRegressor(max_depth=10, random_state=0)\n",
    "model.fit(x_train,y_train)\n",
    "model.score(x_test, y_test)\n",
    "\n",
    "pd.Series(model.feature_importances_, index=x.columns) #特徴量の重要度を参照"
   ]
  },
  {
   "cell_type": "markdown",
   "id": "0440d9f9-7fbc-478d-b61b-71151aee5277",
   "metadata": {},
   "source": [
    "## 誤差と過学習\n",
    "- 未知のデータにおける予測と実測値の誤差は、バイアスとバリアンスとノイズに分解することができる\n",
    "- ノイズは正解データの分散\n",
    "- バリアンスは予測結果の分散\n",
    "- バイアスは正解データの平均値と予測結果の平均値の誤差\n",
    "- 過学習は、バリアンスが高い状態のこと\n"
   ]
  },
  {
   "cell_type": "markdown",
   "id": "eddb309c-fce3-4cf3-bd86-eb31564661db",
   "metadata": {},
   "source": [
    "### ロジスティック回帰実装"
   ]
  },
  {
   "cell_type": "code",
   "execution_count": 19,
   "id": "b6842cdd-c618-433d-8422-1ec42b4152f1",
   "metadata": {},
   "outputs": [
    {
     "data": {
      "text/html": [
       "<div>\n",
       "<style scoped>\n",
       "    .dataframe tbody tr th:only-of-type {\n",
       "        vertical-align: middle;\n",
       "    }\n",
       "\n",
       "    .dataframe tbody tr th {\n",
       "        vertical-align: top;\n",
       "    }\n",
       "\n",
       "    .dataframe thead th {\n",
       "        text-align: right;\n",
       "    }\n",
       "</style>\n",
       "<table border=\"1\" class=\"dataframe\">\n",
       "  <thead>\n",
       "    <tr style=\"text-align: right;\">\n",
       "      <th></th>\n",
       "      <th>がく片長さ</th>\n",
       "      <th>がく片幅</th>\n",
       "      <th>花弁長さ</th>\n",
       "      <th>花弁幅</th>\n",
       "      <th>種類</th>\n",
       "    </tr>\n",
       "  </thead>\n",
       "  <tbody>\n",
       "    <tr>\n",
       "      <th>0</th>\n",
       "      <td>0.22</td>\n",
       "      <td>0.63</td>\n",
       "      <td>0.08</td>\n",
       "      <td>0.04</td>\n",
       "      <td>Iris-setosa</td>\n",
       "    </tr>\n",
       "    <tr>\n",
       "      <th>1</th>\n",
       "      <td>0.17</td>\n",
       "      <td>0.42</td>\n",
       "      <td>0.35</td>\n",
       "      <td>0.04</td>\n",
       "      <td>Iris-setosa</td>\n",
       "    </tr>\n",
       "    <tr>\n",
       "      <th>2</th>\n",
       "      <td>0.11</td>\n",
       "      <td>0.50</td>\n",
       "      <td>0.13</td>\n",
       "      <td>0.04</td>\n",
       "      <td>Iris-setosa</td>\n",
       "    </tr>\n",
       "    <tr>\n",
       "      <th>3</th>\n",
       "      <td>0.08</td>\n",
       "      <td>0.46</td>\n",
       "      <td>0.26</td>\n",
       "      <td>0.04</td>\n",
       "      <td>Iris-setosa</td>\n",
       "    </tr>\n",
       "    <tr>\n",
       "      <th>4</th>\n",
       "      <td>0.19</td>\n",
       "      <td>0.67</td>\n",
       "      <td>0.44</td>\n",
       "      <td>0.04</td>\n",
       "      <td>Iris-setosa</td>\n",
       "    </tr>\n",
       "  </tbody>\n",
       "</table>\n",
       "</div>"
      ],
      "text/plain": [
       "   がく片長さ  がく片幅  花弁長さ   花弁幅           種類\n",
       "0   0.22  0.63  0.08  0.04  Iris-setosa\n",
       "1   0.17  0.42  0.35  0.04  Iris-setosa\n",
       "2   0.11  0.50  0.13  0.04  Iris-setosa\n",
       "3   0.08  0.46  0.26  0.04  Iris-setosa\n",
       "4   0.19  0.67  0.44  0.04  Iris-setosa"
      ]
     },
     "execution_count": 19,
     "metadata": {},
     "output_type": "execute_result"
    }
   ],
   "source": [
    "df = pd.read_csv(\"sukkiri-ml2-codes/datafiles/iris.csv\")\n",
    "df.head()"
   ]
  },
  {
   "cell_type": "code",
   "execution_count": null,
   "id": "1306c938-4db1-41a1-8ae9-02f2b5c09d57",
   "metadata": {},
   "outputs": [],
   "source": []
  }
 ],
 "metadata": {
  "kernelspec": {
   "display_name": "Python [conda env:base] *",
   "language": "python",
   "name": "conda-base-py"
  },
  "language_info": {
   "codemirror_mode": {
    "name": "ipython",
    "version": 3
   },
   "file_extension": ".py",
   "mimetype": "text/x-python",
   "name": "python",
   "nbconvert_exporter": "python",
   "pygments_lexer": "ipython3",
   "version": "3.12.7"
  }
 },
 "nbformat": 4,
 "nbformat_minor": 5
}
