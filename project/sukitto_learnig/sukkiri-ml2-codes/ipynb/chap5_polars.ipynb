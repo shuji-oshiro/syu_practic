{
 "cells": [
  {
   "cell_type": "code",
   "execution_count": 1,
   "id": "c82a34ca-5f85-43b6-bd8a-c9fdf9e65759",
   "metadata": {},
   "outputs": [],
   "source": [
    "import polars as pl"
   ]
  },
  {
   "cell_type": "code",
   "execution_count": 209,
   "id": "68275070-331d-4606-962c-d625d3fb038e",
   "metadata": {},
   "outputs": [
    {
     "data": {
      "text/html": [
       "<div><style>\n",
       ".dataframe > thead > tr,\n",
       ".dataframe > tbody > tr {\n",
       "  text-align: right;\n",
       "  white-space: pre-wrap;\n",
       "}\n",
       "</style>\n",
       "<small>shape: (3, 5)</small><table border=\"1\" class=\"dataframe\"><thead><tr><th>がく片長さ</th><th>がく片幅</th><th>花弁長さ</th><th>花弁幅</th><th>種類</th></tr><tr><td>f64</td><td>f64</td><td>f64</td><td>f64</td><td>str</td></tr></thead><tbody><tr><td>0.22</td><td>0.63</td><td>0.08</td><td>0.04</td><td>&quot;Iris-setosa&quot;</td></tr><tr><td>0.17</td><td>0.42</td><td>0.35</td><td>0.04</td><td>&quot;Iris-setosa&quot;</td></tr><tr><td>0.11</td><td>0.5</td><td>0.13</td><td>0.04</td><td>&quot;Iris-setosa&quot;</td></tr></tbody></table></div>"
      ],
      "text/plain": [
       "shape: (3, 5)\n",
       "┌────────────┬──────────┬──────────┬────────┬─────────────┐\n",
       "│ がく片長さ ┆ がく片幅 ┆ 花弁長さ ┆ 花弁幅 ┆ 種類        │\n",
       "│ ---        ┆ ---      ┆ ---      ┆ ---    ┆ ---         │\n",
       "│ f64        ┆ f64      ┆ f64      ┆ f64    ┆ str         │\n",
       "╞════════════╪══════════╪══════════╪════════╪═════════════╡\n",
       "│ 0.22       ┆ 0.63     ┆ 0.08     ┆ 0.04   ┆ Iris-setosa │\n",
       "│ 0.17       ┆ 0.42     ┆ 0.35     ┆ 0.04   ┆ Iris-setosa │\n",
       "│ 0.11       ┆ 0.5      ┆ 0.13     ┆ 0.04   ┆ Iris-setosa │\n",
       "└────────────┴──────────┴──────────┴────────┴─────────────┘"
      ]
     },
     "execution_count": 209,
     "metadata": {},
     "output_type": "execute_result"
    }
   ],
   "source": [
    "df = pl.read_csv(\"iris.csv\")\n",
    "df.head(3)"
   ]
  },
  {
   "cell_type": "code",
   "execution_count": 211,
   "id": "44af97c2-e623-47c3-bfa4-7dd4e4b94646",
   "metadata": {},
   "outputs": [
    {
     "data": {
      "text/html": [
       "<div><style>\n",
       ".dataframe > thead > tr,\n",
       ".dataframe > tbody > tr {\n",
       "  text-align: right;\n",
       "  white-space: pre-wrap;\n",
       "}\n",
       "</style>\n",
       "<small>shape: (3,)</small><table border=\"1\" class=\"dataframe\"><thead><tr><th>種類</th></tr><tr><td>str</td></tr></thead><tbody><tr><td>&quot;Iris-versicolor&quot;</td></tr><tr><td>&quot;Iris-virginica&quot;</td></tr><tr><td>&quot;Iris-setosa&quot;</td></tr></tbody></table></div>"
      ],
      "text/plain": [
       "shape: (3,)\n",
       "Series: '種類' [str]\n",
       "[\n",
       "\t\"Iris-versicolor\"\n",
       "\t\"Iris-virginica\"\n",
       "\t\"Iris-setosa\"\n",
       "]"
      ]
     },
     "execution_count": 211,
     "metadata": {},
     "output_type": "execute_result"
    }
   ],
   "source": [
    "df.get_column(\"種類\").unique()"
   ]
  },
  {
   "cell_type": "code",
   "execution_count": 213,
   "id": "aa786b87-309f-4f0d-a5e4-5643215c80dd",
   "metadata": {},
   "outputs": [
    {
     "data": {
      "text/html": [
       "<div><style>\n",
       ".dataframe > thead > tr,\n",
       ".dataframe > tbody > tr {\n",
       "  text-align: right;\n",
       "  white-space: pre-wrap;\n",
       "}\n",
       "</style>\n",
       "<small>shape: (3, 2)</small><table border=\"1\" class=\"dataframe\"><thead><tr><th>種類</th><th>count</th></tr><tr><td>str</td><td>u32</td></tr></thead><tbody><tr><td>&quot;Iris-virginica&quot;</td><td>50</td></tr><tr><td>&quot;Iris-versicolor&quot;</td><td>50</td></tr><tr><td>&quot;Iris-setosa&quot;</td><td>50</td></tr></tbody></table></div>"
      ],
      "text/plain": [
       "shape: (3, 2)\n",
       "┌─────────────────┬───────┐\n",
       "│ 種類            ┆ count │\n",
       "│ ---             ┆ ---   │\n",
       "│ str             ┆ u32   │\n",
       "╞═════════════════╪═══════╡\n",
       "│ Iris-virginica  ┆ 50    │\n",
       "│ Iris-versicolor ┆ 50    │\n",
       "│ Iris-setosa     ┆ 50    │\n",
       "└─────────────────┴───────┘"
      ]
     },
     "execution_count": 213,
     "metadata": {},
     "output_type": "execute_result"
    }
   ],
   "source": [
    "df.get_column(\"種類\").value_counts()"
   ]
  },
  {
   "cell_type": "code",
   "execution_count": 215,
   "id": "9322bcee-3b07-45dd-bf29-73e4e9d45b15",
   "metadata": {},
   "outputs": [
    {
     "data": {
      "text/html": [
       "<div><style>\n",
       ".dataframe > thead > tr,\n",
       ".dataframe > tbody > tr {\n",
       "  text-align: right;\n",
       "  white-space: pre-wrap;\n",
       "}\n",
       "</style>\n",
       "<small>shape: (3, 5)</small><table border=\"1\" class=\"dataframe\"><thead><tr><th>がく片長さ</th><th>がく片幅</th><th>花弁長さ</th><th>花弁幅</th><th>種類</th></tr><tr><td>f64</td><td>f64</td><td>f64</td><td>f64</td><td>str</td></tr></thead><tbody><tr><td>0.61</td><td>0.42</td><td>null</td><td>0.79</td><td>&quot;Iris-virginica&quot;</td></tr><tr><td>0.53</td><td>0.58</td><td>0.63</td><td>0.92</td><td>&quot;Iris-virginica&quot;</td></tr><tr><td>0.44</td><td>0.42</td><td>0.41</td><td>0.71</td><td>&quot;Iris-virginica&quot;</td></tr></tbody></table></div>"
      ],
      "text/plain": [
       "shape: (3, 5)\n",
       "┌────────────┬──────────┬──────────┬────────┬────────────────┐\n",
       "│ がく片長さ ┆ がく片幅 ┆ 花弁長さ ┆ 花弁幅 ┆ 種類           │\n",
       "│ ---        ┆ ---      ┆ ---      ┆ ---    ┆ ---            │\n",
       "│ f64        ┆ f64      ┆ f64      ┆ f64    ┆ str            │\n",
       "╞════════════╪══════════╪══════════╪════════╪════════════════╡\n",
       "│ 0.61       ┆ 0.42     ┆ null     ┆ 0.79   ┆ Iris-virginica │\n",
       "│ 0.53       ┆ 0.58     ┆ 0.63     ┆ 0.92   ┆ Iris-virginica │\n",
       "│ 0.44       ┆ 0.42     ┆ 0.41     ┆ 0.71   ┆ Iris-virginica │\n",
       "└────────────┴──────────┴──────────┴────────┴────────────────┘"
      ]
     },
     "execution_count": 215,
     "metadata": {},
     "output_type": "execute_result"
    }
   ],
   "source": [
    "df.tail(3)"
   ]
  },
  {
   "cell_type": "code",
   "execution_count": 217,
   "id": "89ce6d4f-109b-4759-b709-185519addd62",
   "metadata": {},
   "outputs": [
    {
     "data": {
      "text/html": [
       "<div><style>\n",
       ".dataframe > thead > tr,\n",
       ".dataframe > tbody > tr {\n",
       "  text-align: right;\n",
       "  white-space: pre-wrap;\n",
       "}\n",
       "</style>\n",
       "<small>shape: (150, 5)</small><table border=\"1\" class=\"dataframe\"><thead><tr><th>がく片長さ</th><th>がく片幅</th><th>花弁長さ</th><th>花弁幅</th><th>種類</th></tr><tr><td>bool</td><td>bool</td><td>bool</td><td>bool</td><td>bool</td></tr></thead><tbody><tr><td>false</td><td>false</td><td>false</td><td>false</td><td>false</td></tr><tr><td>false</td><td>false</td><td>false</td><td>false</td><td>false</td></tr><tr><td>false</td><td>false</td><td>false</td><td>false</td><td>false</td></tr><tr><td>false</td><td>false</td><td>false</td><td>false</td><td>false</td></tr><tr><td>false</td><td>false</td><td>false</td><td>false</td><td>false</td></tr><tr><td>&hellip;</td><td>&hellip;</td><td>&hellip;</td><td>&hellip;</td><td>&hellip;</td></tr><tr><td>false</td><td>false</td><td>false</td><td>false</td><td>false</td></tr><tr><td>false</td><td>false</td><td>false</td><td>false</td><td>false</td></tr><tr><td>false</td><td>false</td><td>true</td><td>false</td><td>false</td></tr><tr><td>false</td><td>false</td><td>false</td><td>false</td><td>false</td></tr><tr><td>false</td><td>false</td><td>false</td><td>false</td><td>false</td></tr></tbody></table></div>"
      ],
      "text/plain": [
       "shape: (150, 5)\n",
       "┌────────────┬──────────┬──────────┬────────┬───────┐\n",
       "│ がく片長さ ┆ がく片幅 ┆ 花弁長さ ┆ 花弁幅 ┆ 種類  │\n",
       "│ ---        ┆ ---      ┆ ---      ┆ ---    ┆ ---   │\n",
       "│ bool       ┆ bool     ┆ bool     ┆ bool   ┆ bool  │\n",
       "╞════════════╪══════════╪══════════╪════════╪═══════╡\n",
       "│ false      ┆ false    ┆ false    ┆ false  ┆ false │\n",
       "│ false      ┆ false    ┆ false    ┆ false  ┆ false │\n",
       "│ false      ┆ false    ┆ false    ┆ false  ┆ false │\n",
       "│ false      ┆ false    ┆ false    ┆ false  ┆ false │\n",
       "│ false      ┆ false    ┆ false    ┆ false  ┆ false │\n",
       "│ …          ┆ …        ┆ …        ┆ …      ┆ …     │\n",
       "│ false      ┆ false    ┆ false    ┆ false  ┆ false │\n",
       "│ false      ┆ false    ┆ false    ┆ false  ┆ false │\n",
       "│ false      ┆ false    ┆ true     ┆ false  ┆ false │\n",
       "│ false      ┆ false    ┆ false    ┆ false  ┆ false │\n",
       "│ false      ┆ false    ┆ false    ┆ false  ┆ false │\n",
       "└────────────┴──────────┴──────────┴────────┴───────┘"
      ]
     },
     "execution_count": 217,
     "metadata": {},
     "output_type": "execute_result"
    }
   ],
   "source": [
    "df.with_columns(\n",
    "    [ pl.col(col).is_null() for col in df.columns ]\n",
    ")"
   ]
  },
  {
   "cell_type": "code",
   "execution_count": 219,
   "id": "58b9e096-2a2f-4f4a-b1f7-45e01f535bd9",
   "metadata": {},
   "outputs": [
    {
     "data": {
      "text/html": [
       "<div><style>\n",
       ".dataframe > thead > tr,\n",
       ".dataframe > tbody > tr {\n",
       "  text-align: right;\n",
       "  white-space: pre-wrap;\n",
       "}\n",
       "</style>\n",
       "<small>shape: (1, 5)</small><table border=\"1\" class=\"dataframe\"><thead><tr><th>がく片長さ</th><th>がく片幅</th><th>花弁長さ</th><th>花弁幅</th><th>種類</th></tr><tr><td>u32</td><td>u32</td><td>u32</td><td>u32</td><td>u32</td></tr></thead><tbody><tr><td>2</td><td>1</td><td>2</td><td>2</td><td>0</td></tr></tbody></table></div>"
      ],
      "text/plain": [
       "shape: (1, 5)\n",
       "┌────────────┬──────────┬──────────┬────────┬──────┐\n",
       "│ がく片長さ ┆ がく片幅 ┆ 花弁長さ ┆ 花弁幅 ┆ 種類 │\n",
       "│ ---        ┆ ---      ┆ ---      ┆ ---    ┆ ---  │\n",
       "│ u32        ┆ u32      ┆ u32      ┆ u32    ┆ u32  │\n",
       "╞════════════╪══════════╪══════════╪════════╪══════╡\n",
       "│ 2          ┆ 1        ┆ 2        ┆ 2      ┆ 0    │\n",
       "└────────────┴──────────┴──────────┴────────┴──────┘"
      ]
     },
     "execution_count": 219,
     "metadata": {},
     "output_type": "execute_result"
    }
   ],
   "source": [
    "df.with_columns(\n",
    "    [ pl.col(col).is_null() for col in df.columns ]\n",
    ").sum()"
   ]
  },
  {
   "cell_type": "code",
   "execution_count": 221,
   "id": "ccf9d9fd-38f5-4026-9282-d608c2d38234",
   "metadata": {},
   "outputs": [
    {
     "data": {
      "text/html": [
       "<div><style>\n",
       ".dataframe > thead > tr,\n",
       ".dataframe > tbody > tr {\n",
       "  text-align: right;\n",
       "  white-space: pre-wrap;\n",
       "}\n",
       "</style>\n",
       "<small>shape: (1, 5)</small><table border=\"1\" class=\"dataframe\"><thead><tr><th>がく片長さ</th><th>がく片幅</th><th>花弁長さ</th><th>花弁幅</th><th>種類</th></tr><tr><td>u32</td><td>u32</td><td>u32</td><td>u32</td><td>u32</td></tr></thead><tbody><tr><td>2</td><td>1</td><td>2</td><td>2</td><td>0</td></tr></tbody></table></div>"
      ],
      "text/plain": [
       "shape: (1, 5)\n",
       "┌────────────┬──────────┬──────────┬────────┬──────┐\n",
       "│ がく片長さ ┆ がく片幅 ┆ 花弁長さ ┆ 花弁幅 ┆ 種類 │\n",
       "│ ---        ┆ ---      ┆ ---      ┆ ---    ┆ ---  │\n",
       "│ u32        ┆ u32      ┆ u32      ┆ u32    ┆ u32  │\n",
       "╞════════════╪══════════╪══════════╪════════╪══════╡\n",
       "│ 2          ┆ 1        ┆ 2        ┆ 2      ┆ 0    │\n",
       "└────────────┴──────────┴──────────┴────────┴──────┘"
      ]
     },
     "execution_count": 221,
     "metadata": {},
     "output_type": "execute_result"
    }
   ],
   "source": [
    "df.null_count()"
   ]
  },
  {
   "cell_type": "code",
   "execution_count": 223,
   "id": "5c68c002-ba41-42e5-972b-464d3aa426b2",
   "metadata": {},
   "outputs": [
    {
     "data": {
      "text/html": [
       "<div><style>\n",
       ".dataframe > thead > tr,\n",
       ".dataframe > tbody > tr {\n",
       "  text-align: right;\n",
       "  white-space: pre-wrap;\n",
       "}\n",
       "</style>\n",
       "<small>shape: (143, 5)</small><table border=\"1\" class=\"dataframe\"><thead><tr><th>がく片長さ</th><th>がく片幅</th><th>花弁長さ</th><th>花弁幅</th><th>種類</th></tr><tr><td>f64</td><td>f64</td><td>f64</td><td>f64</td><td>str</td></tr></thead><tbody><tr><td>0.22</td><td>0.63</td><td>0.08</td><td>0.04</td><td>&quot;Iris-setosa&quot;</td></tr><tr><td>0.17</td><td>0.42</td><td>0.35</td><td>0.04</td><td>&quot;Iris-setosa&quot;</td></tr><tr><td>0.11</td><td>0.5</td><td>0.13</td><td>0.04</td><td>&quot;Iris-setosa&quot;</td></tr><tr><td>0.08</td><td>0.46</td><td>0.26</td><td>0.04</td><td>&quot;Iris-setosa&quot;</td></tr><tr><td>0.19</td><td>0.67</td><td>0.44</td><td>0.04</td><td>&quot;Iris-setosa&quot;</td></tr><tr><td>&hellip;</td><td>&hellip;</td><td>&hellip;</td><td>&hellip;</td><td>&hellip;</td></tr><tr><td>0.67</td><td>0.54</td><td>0.7</td><td>0.72</td><td>&quot;Iris-virginica&quot;</td></tr><tr><td>0.67</td><td>0.42</td><td>0.54</td><td>0.92</td><td>&quot;Iris-virginica&quot;</td></tr><tr><td>0.56</td><td>0.21</td><td>0.69</td><td>0.46</td><td>&quot;Iris-virginica&quot;</td></tr><tr><td>0.53</td><td>0.58</td><td>0.63</td><td>0.92</td><td>&quot;Iris-virginica&quot;</td></tr><tr><td>0.44</td><td>0.42</td><td>0.41</td><td>0.71</td><td>&quot;Iris-virginica&quot;</td></tr></tbody></table></div>"
      ],
      "text/plain": [
       "shape: (143, 5)\n",
       "┌────────────┬──────────┬──────────┬────────┬────────────────┐\n",
       "│ がく片長さ ┆ がく片幅 ┆ 花弁長さ ┆ 花弁幅 ┆ 種類           │\n",
       "│ ---        ┆ ---      ┆ ---      ┆ ---    ┆ ---            │\n",
       "│ f64        ┆ f64      ┆ f64      ┆ f64    ┆ str            │\n",
       "╞════════════╪══════════╪══════════╪════════╪════════════════╡\n",
       "│ 0.22       ┆ 0.63     ┆ 0.08     ┆ 0.04   ┆ Iris-setosa    │\n",
       "│ 0.17       ┆ 0.42     ┆ 0.35     ┆ 0.04   ┆ Iris-setosa    │\n",
       "│ 0.11       ┆ 0.5      ┆ 0.13     ┆ 0.04   ┆ Iris-setosa    │\n",
       "│ 0.08       ┆ 0.46     ┆ 0.26     ┆ 0.04   ┆ Iris-setosa    │\n",
       "│ 0.19       ┆ 0.67     ┆ 0.44     ┆ 0.04   ┆ Iris-setosa    │\n",
       "│ …          ┆ …        ┆ …        ┆ …      ┆ …              │\n",
       "│ 0.67       ┆ 0.54     ┆ 0.7      ┆ 0.72   ┆ Iris-virginica │\n",
       "│ 0.67       ┆ 0.42     ┆ 0.54     ┆ 0.92   ┆ Iris-virginica │\n",
       "│ 0.56       ┆ 0.21     ┆ 0.69     ┆ 0.46   ┆ Iris-virginica │\n",
       "│ 0.53       ┆ 0.58     ┆ 0.63     ┆ 0.92   ┆ Iris-virginica │\n",
       "│ 0.44       ┆ 0.42     ┆ 0.41     ┆ 0.71   ┆ Iris-virginica │\n",
       "└────────────┴──────────┴──────────┴────────┴────────────────┘"
      ]
     },
     "execution_count": 223,
     "metadata": {},
     "output_type": "execute_result"
    }
   ],
   "source": [
    "df.drop_nulls()"
   ]
  },
  {
   "cell_type": "code",
   "execution_count": 227,
   "id": "ae52a727-92a2-42f2-843a-b7fe17f8cebe",
   "metadata": {},
   "outputs": [
    {
     "data": {
      "text/html": [
       "<div><style>\n",
       ".dataframe > thead > tr,\n",
       ".dataframe > tbody > tr {\n",
       "  text-align: right;\n",
       "  white-space: pre-wrap;\n",
       "}\n",
       "</style>\n",
       "<small>shape: (150, 5)</small><table border=\"1\" class=\"dataframe\"><thead><tr><th>がく片長さ</th><th>がく片幅</th><th>花弁長さ</th><th>花弁幅</th><th>種類</th></tr><tr><td>f64</td><td>f64</td><td>f64</td><td>f64</td><td>str</td></tr></thead><tbody><tr><td>0.22</td><td>0.63</td><td>0.08</td><td>0.04</td><td>&quot;Iris-setosa&quot;</td></tr><tr><td>0.17</td><td>0.42</td><td>0.35</td><td>0.04</td><td>&quot;Iris-setosa&quot;</td></tr><tr><td>0.11</td><td>0.5</td><td>0.13</td><td>0.04</td><td>&quot;Iris-setosa&quot;</td></tr><tr><td>0.08</td><td>0.46</td><td>0.26</td><td>0.04</td><td>&quot;Iris-setosa&quot;</td></tr><tr><td>0.19</td><td>0.67</td><td>0.44</td><td>0.04</td><td>&quot;Iris-setosa&quot;</td></tr><tr><td>&hellip;</td><td>&hellip;</td><td>&hellip;</td><td>&hellip;</td><td>&hellip;</td></tr><tr><td>0.67</td><td>0.42</td><td>0.54</td><td>0.92</td><td>&quot;Iris-virginica&quot;</td></tr><tr><td>0.56</td><td>0.21</td><td>0.69</td><td>0.46</td><td>&quot;Iris-virginica&quot;</td></tr><tr><td>0.61</td><td>0.42</td><td>null</td><td>0.79</td><td>&quot;Iris-virginica&quot;</td></tr><tr><td>0.53</td><td>0.58</td><td>0.63</td><td>0.92</td><td>&quot;Iris-virginica&quot;</td></tr><tr><td>0.44</td><td>0.42</td><td>0.41</td><td>0.71</td><td>&quot;Iris-virginica&quot;</td></tr></tbody></table></div>"
      ],
      "text/plain": [
       "shape: (150, 5)\n",
       "┌────────────┬──────────┬──────────┬────────┬────────────────┐\n",
       "│ がく片長さ ┆ がく片幅 ┆ 花弁長さ ┆ 花弁幅 ┆ 種類           │\n",
       "│ ---        ┆ ---      ┆ ---      ┆ ---    ┆ ---            │\n",
       "│ f64        ┆ f64      ┆ f64      ┆ f64    ┆ str            │\n",
       "╞════════════╪══════════╪══════════╪════════╪════════════════╡\n",
       "│ 0.22       ┆ 0.63     ┆ 0.08     ┆ 0.04   ┆ Iris-setosa    │\n",
       "│ 0.17       ┆ 0.42     ┆ 0.35     ┆ 0.04   ┆ Iris-setosa    │\n",
       "│ 0.11       ┆ 0.5      ┆ 0.13     ┆ 0.04   ┆ Iris-setosa    │\n",
       "│ 0.08       ┆ 0.46     ┆ 0.26     ┆ 0.04   ┆ Iris-setosa    │\n",
       "│ 0.19       ┆ 0.67     ┆ 0.44     ┆ 0.04   ┆ Iris-setosa    │\n",
       "│ …          ┆ …        ┆ …        ┆ …      ┆ …              │\n",
       "│ 0.67       ┆ 0.42     ┆ 0.54     ┆ 0.92   ┆ Iris-virginica │\n",
       "│ 0.56       ┆ 0.21     ┆ 0.69     ┆ 0.46   ┆ Iris-virginica │\n",
       "│ 0.61       ┆ 0.42     ┆ null     ┆ 0.79   ┆ Iris-virginica │\n",
       "│ 0.53       ┆ 0.58     ┆ 0.63     ┆ 0.92   ┆ Iris-virginica │\n",
       "│ 0.44       ┆ 0.42     ┆ 0.41     ┆ 0.71   ┆ Iris-virginica │\n",
       "└────────────┴──────────┴──────────┴────────┴────────────────┘"
      ]
     },
     "execution_count": 227,
     "metadata": {},
     "output_type": "execute_result"
    }
   ],
   "source": [
    "df.filter(\n",
    "    ~pl.all_horizontal(\n",
    "        pl.all().is_null()\n",
    "    )\n",
    ")"
   ]
  },
  {
   "cell_type": "code",
   "execution_count": 241,
   "id": "3d206e6f-e556-4951-8c47-d6be15b31ceb",
   "metadata": {},
   "outputs": [
    {
     "data": {
      "text/html": [
       "<div><style>\n",
       ".dataframe > thead > tr,\n",
       ".dataframe > tbody > tr {\n",
       "  text-align: right;\n",
       "  white-space: pre-wrap;\n",
       "}\n",
       "</style>\n",
       "<small>shape: (150, 5)</small><table border=\"1\" class=\"dataframe\"><thead><tr><th>がく片長さ</th><th>がく片幅</th><th>花弁長さ</th><th>花弁幅</th><th>種類</th></tr><tr><td>f64</td><td>f64</td><td>f64</td><td>f64</td><td>str</td></tr></thead><tbody><tr><td>0.22</td><td>0.63</td><td>0.08</td><td>0.04</td><td>&quot;Iris-setosa&quot;</td></tr><tr><td>0.17</td><td>0.42</td><td>0.35</td><td>0.04</td><td>&quot;Iris-setosa&quot;</td></tr><tr><td>0.11</td><td>0.5</td><td>0.13</td><td>0.04</td><td>&quot;Iris-setosa&quot;</td></tr><tr><td>0.08</td><td>0.46</td><td>0.26</td><td>0.04</td><td>&quot;Iris-setosa&quot;</td></tr><tr><td>0.19</td><td>0.67</td><td>0.44</td><td>0.04</td><td>&quot;Iris-setosa&quot;</td></tr><tr><td>&hellip;</td><td>&hellip;</td><td>&hellip;</td><td>&hellip;</td><td>&hellip;</td></tr><tr><td>0.67</td><td>0.42</td><td>0.54</td><td>0.92</td><td>&quot;Iris-virginica&quot;</td></tr><tr><td>0.56</td><td>0.21</td><td>0.69</td><td>0.46</td><td>&quot;Iris-virginica&quot;</td></tr><tr><td>0.61</td><td>0.42</td><td>0.0</td><td>0.79</td><td>&quot;Iris-virginica&quot;</td></tr><tr><td>0.53</td><td>0.58</td><td>0.63</td><td>0.92</td><td>&quot;Iris-virginica&quot;</td></tr><tr><td>0.44</td><td>0.42</td><td>0.41</td><td>0.71</td><td>&quot;Iris-virginica&quot;</td></tr></tbody></table></div>"
      ],
      "text/plain": [
       "shape: (150, 5)\n",
       "┌────────────┬──────────┬──────────┬────────┬────────────────┐\n",
       "│ がく片長さ ┆ がく片幅 ┆ 花弁長さ ┆ 花弁幅 ┆ 種類           │\n",
       "│ ---        ┆ ---      ┆ ---      ┆ ---    ┆ ---            │\n",
       "│ f64        ┆ f64      ┆ f64      ┆ f64    ┆ str            │\n",
       "╞════════════╪══════════╪══════════╪════════╪════════════════╡\n",
       "│ 0.22       ┆ 0.63     ┆ 0.08     ┆ 0.04   ┆ Iris-setosa    │\n",
       "│ 0.17       ┆ 0.42     ┆ 0.35     ┆ 0.04   ┆ Iris-setosa    │\n",
       "│ 0.11       ┆ 0.5      ┆ 0.13     ┆ 0.04   ┆ Iris-setosa    │\n",
       "│ 0.08       ┆ 0.46     ┆ 0.26     ┆ 0.04   ┆ Iris-setosa    │\n",
       "│ 0.19       ┆ 0.67     ┆ 0.44     ┆ 0.04   ┆ Iris-setosa    │\n",
       "│ …          ┆ …        ┆ …        ┆ …      ┆ …              │\n",
       "│ 0.67       ┆ 0.42     ┆ 0.54     ┆ 0.92   ┆ Iris-virginica │\n",
       "│ 0.56       ┆ 0.21     ┆ 0.69     ┆ 0.46   ┆ Iris-virginica │\n",
       "│ 0.61       ┆ 0.42     ┆ 0.0      ┆ 0.79   ┆ Iris-virginica │\n",
       "│ 0.53       ┆ 0.58     ┆ 0.63     ┆ 0.92   ┆ Iris-virginica │\n",
       "│ 0.44       ┆ 0.42     ┆ 0.41     ┆ 0.71   ┆ Iris-virginica │\n",
       "└────────────┴──────────┴──────────┴────────┴────────────────┘"
      ]
     },
     "execution_count": 241,
     "metadata": {},
     "output_type": "execute_result"
    }
   ],
   "source": [
    "df.with_columns(\n",
    "    pl.col(\"花弁長さ\").fill_null(0)\n",
    ")"
   ]
  },
  {
   "cell_type": "code",
   "execution_count": 243,
   "id": "6004b451-f8a8-4dc5-bf03-ab252ab30047",
   "metadata": {},
   "outputs": [
    {
     "data": {
      "text/html": [
       "<div><style>\n",
       ".dataframe > thead > tr,\n",
       ".dataframe > tbody > tr {\n",
       "  text-align: right;\n",
       "  white-space: pre-wrap;\n",
       "}\n",
       "</style>\n",
       "<small>shape: (1, 5)</small><table border=\"1\" class=\"dataframe\"><thead><tr><th>がく片長さ</th><th>がく片幅</th><th>花弁長さ</th><th>花弁幅</th><th>種類</th></tr><tr><td>f64</td><td>f64</td><td>f64</td><td>f64</td><td>str</td></tr></thead><tbody><tr><td>0.420878</td><td>0.440403</td><td>0.486757</td><td>0.447432</td><td>null</td></tr></tbody></table></div>"
      ],
      "text/plain": [
       "shape: (1, 5)\n",
       "┌────────────┬──────────┬──────────┬──────────┬──────┐\n",
       "│ がく片長さ ┆ がく片幅 ┆ 花弁長さ ┆ 花弁幅   ┆ 種類 │\n",
       "│ ---        ┆ ---      ┆ ---      ┆ ---      ┆ ---  │\n",
       "│ f64        ┆ f64      ┆ f64      ┆ f64      ┆ str  │\n",
       "╞════════════╪══════════╪══════════╪══════════╪══════╡\n",
       "│ 0.420878   ┆ 0.440403 ┆ 0.486757 ┆ 0.447432 ┆ null │\n",
       "└────────────┴──────────┴──────────┴──────────┴──────┘"
      ]
     },
     "execution_count": 243,
     "metadata": {},
     "output_type": "execute_result"
    }
   ],
   "source": [
    "df.mean()"
   ]
  },
  {
   "cell_type": "code",
   "execution_count": 245,
   "id": "df6099b5-8451-4936-9a37-684015c2ba3d",
   "metadata": {},
   "outputs": [
    {
     "data": {
      "text/html": [
       "<div><style>\n",
       ".dataframe > thead > tr,\n",
       ".dataframe > tbody > tr {\n",
       "  text-align: right;\n",
       "  white-space: pre-wrap;\n",
       "}\n",
       "</style>\n",
       "<small>shape: (150, 5)</small><table border=\"1\" class=\"dataframe\"><thead><tr><th>がく片長さ</th><th>がく片幅</th><th>花弁長さ</th><th>花弁幅</th><th>種類</th></tr><tr><td>f64</td><td>f64</td><td>f64</td><td>f64</td><td>str</td></tr></thead><tbody><tr><td>0.22</td><td>0.63</td><td>0.08</td><td>0.04</td><td>&quot;Iris-setosa&quot;</td></tr><tr><td>0.17</td><td>0.42</td><td>0.35</td><td>0.04</td><td>&quot;Iris-setosa&quot;</td></tr><tr><td>0.11</td><td>0.5</td><td>0.13</td><td>0.04</td><td>&quot;Iris-setosa&quot;</td></tr><tr><td>0.08</td><td>0.46</td><td>0.26</td><td>0.04</td><td>&quot;Iris-setosa&quot;</td></tr><tr><td>0.19</td><td>0.67</td><td>0.44</td><td>0.04</td><td>&quot;Iris-setosa&quot;</td></tr><tr><td>&hellip;</td><td>&hellip;</td><td>&hellip;</td><td>&hellip;</td><td>&hellip;</td></tr><tr><td>0.67</td><td>0.42</td><td>0.54</td><td>0.92</td><td>&quot;Iris-virginica&quot;</td></tr><tr><td>0.56</td><td>0.21</td><td>0.69</td><td>0.46</td><td>&quot;Iris-virginica&quot;</td></tr><tr><td>0.61</td><td>0.42</td><td>0.486757</td><td>0.79</td><td>&quot;Iris-virginica&quot;</td></tr><tr><td>0.53</td><td>0.58</td><td>0.63</td><td>0.92</td><td>&quot;Iris-virginica&quot;</td></tr><tr><td>0.44</td><td>0.42</td><td>0.41</td><td>0.71</td><td>&quot;Iris-virginica&quot;</td></tr></tbody></table></div>"
      ],
      "text/plain": [
       "shape: (150, 5)\n",
       "┌────────────┬──────────┬──────────┬────────┬────────────────┐\n",
       "│ がく片長さ ┆ がく片幅 ┆ 花弁長さ ┆ 花弁幅 ┆ 種類           │\n",
       "│ ---        ┆ ---      ┆ ---      ┆ ---    ┆ ---            │\n",
       "│ f64        ┆ f64      ┆ f64      ┆ f64    ┆ str            │\n",
       "╞════════════╪══════════╪══════════╪════════╪════════════════╡\n",
       "│ 0.22       ┆ 0.63     ┆ 0.08     ┆ 0.04   ┆ Iris-setosa    │\n",
       "│ 0.17       ┆ 0.42     ┆ 0.35     ┆ 0.04   ┆ Iris-setosa    │\n",
       "│ 0.11       ┆ 0.5      ┆ 0.13     ┆ 0.04   ┆ Iris-setosa    │\n",
       "│ 0.08       ┆ 0.46     ┆ 0.26     ┆ 0.04   ┆ Iris-setosa    │\n",
       "│ 0.19       ┆ 0.67     ┆ 0.44     ┆ 0.04   ┆ Iris-setosa    │\n",
       "│ …          ┆ …        ┆ …        ┆ …      ┆ …              │\n",
       "│ 0.67       ┆ 0.42     ┆ 0.54     ┆ 0.92   ┆ Iris-virginica │\n",
       "│ 0.56       ┆ 0.21     ┆ 0.69     ┆ 0.46   ┆ Iris-virginica │\n",
       "│ 0.61       ┆ 0.42     ┆ 0.486757 ┆ 0.79   ┆ Iris-virginica │\n",
       "│ 0.53       ┆ 0.58     ┆ 0.63     ┆ 0.92   ┆ Iris-virginica │\n",
       "│ 0.44       ┆ 0.42     ┆ 0.41     ┆ 0.71   ┆ Iris-virginica │\n",
       "└────────────┴──────────┴──────────┴────────┴────────────────┘"
      ]
     },
     "execution_count": 245,
     "metadata": {},
     "output_type": "execute_result"
    }
   ],
   "source": [
    "df.fill_null(strategy='mean')"
   ]
  },
  {
   "cell_type": "code",
   "execution_count": null,
   "id": "e6cd51eb-1219-4ef9-b26b-98823797eeee",
   "metadata": {},
   "outputs": [],
   "source": []
  }
 ],
 "metadata": {
  "kernelspec": {
   "display_name": "Python 3 (ipykernel)",
   "language": "python",
   "name": "python3"
  },
  "language_info": {
   "codemirror_mode": {
    "name": "ipython",
    "version": 3
   },
   "file_extension": ".py",
   "mimetype": "text/x-python",
   "name": "python",
   "nbconvert_exporter": "python",
   "pygments_lexer": "ipython3",
   "version": "3.12.2"
  }
 },
 "nbformat": 4,
 "nbformat_minor": 5
}
